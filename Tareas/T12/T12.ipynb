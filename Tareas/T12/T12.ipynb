{
  "cells": [
    {
      "cell_type": "markdown",
      "metadata": {
        "id": "Ysk34AFU2vKl"
      },
      "source": [
        "# Tarea 12\n",
        "\n",
        "Fragoso Alvarado Daniel\n",
        "\n",
        "---\n",
        "\n",
        "Utilice el conjunto de datos para realizar un modelo de red (PyVis) que permita visualizar las vacunas que se están implementando en diferentes países. Considere un conjunto de 20 países (opcionales) pero incluyendo el caso de México en su elección."
      ]
    },
    {
      "cell_type": "code",
      "execution_count": null,
      "metadata": {
        "id": "5GvzJkIoWZNE"
      },
      "outputs": [],
      "source": [
        "!pip install pyvis"
      ]
    },
    {
      "cell_type": "code",
      "execution_count": 2,
      "metadata": {
        "id": "v_VzguBYWyfz"
      },
      "outputs": [],
      "source": [
        "# Primero vamos a importar algunas liberirias que permitan la viaulización del archivo htmml sobre colab \n",
        "\n",
        "import IPython\n",
        "import pandas as pd\n",
        "from pyvis import network as net\n",
        "import networkx as nx\n",
        "import matplotlib.pyplot as plt\n",
        "\n",
        "import numpy as np\n",
        "from pyvis.network import Network"
      ]
    },
    {
      "cell_type": "markdown",
      "metadata": {
        "id": "GxwccOa-3awu"
      },
      "source": [
        "Vamos a generar la lectura de los datos:"
      ]
    },
    {
      "cell_type": "code",
      "execution_count": 3,
      "metadata": {
        "id": "jn7PW4eSXqDu"
      },
      "outputs": [],
      "source": [
        "vacunas = pd.read_csv('World_Vaccination_Progress.csv')"
      ]
    },
    {
      "cell_type": "markdown",
      "metadata": {
        "id": "ao7gT8FK3pGw"
      },
      "source": [
        "Vamos a hacer la selección de datos para 20 países, vamos a tomar de dos zonas principalmente: Europa y America, de regimenes no tan alineados ideológicamente.\n",
        "\n",
        "America: \n",
        "- Estados Unidos\n",
        "- Canada\n",
        "- México\n",
        "- Brasil\n",
        "- Argentina\n",
        "- Cuba\n",
        "- Venezuela\n",
        "- El Salvador\n",
        "- Colombia\n",
        "- Chile\n",
        "- Peru\n",
        "- Guatemala\n",
        "\n",
        "Europa:\n",
        "- Alemania\n",
        "- Reino Unido\n",
        "- Rusia\n",
        "- Italia\n",
        "- Francia\n",
        "\n",
        "Además Japón y Australia."
      ]
    },
    {
      "cell_type": "code",
      "execution_count": 4,
      "metadata": {
        "id": "H5UGFsjzYCBR"
      },
      "outputs": [],
      "source": [
        "paises_20 = vacunas[(vacunas.Country == 'Mexico') | (vacunas.Country == 'United States') | (vacunas.Country == 'Guatemala') | (vacunas.Country == 'Brazil') | \n",
        "                    (vacunas.Country == 'Germany') | (vacunas.Country == 'United Kingdom') | (vacunas.Country == 'Argentina') | (vacunas.Country == 'Chile') | \n",
        "                    (vacunas.Country == 'France') | (vacunas.Country == 'Italy') | (vacunas.Country == 'Russia') | (vacunas.Country == 'Spain') | \n",
        "                    (vacunas.Country == 'Canada') | (vacunas.Country == 'Cuba') | (vacunas.Country == 'Peru') | (vacunas.Country == 'Colombia') | \n",
        "                    (vacunas.Country == 'Japan') | (vacunas.Country == 'Venezuela') | (vacunas.Country == 'Australia') | (vacunas.Country == 'El Salvador')]"
      ]
    },
    {
      "cell_type": "markdown",
      "metadata": {
        "id": "tH9v4DSU563A"
      },
      "source": [
        "Hay un error tipografico en el registro de las vacunas en Brasil. Así que vamos a corregirlo para optimizar el proceso de la construcción de la red."
      ]
    },
    {
      "cell_type": "code",
      "execution_count": 5,
      "metadata": {
        "id": "xIMu3SLqbInU"
      },
      "outputs": [
        {
          "name": "stderr",
          "output_type": "stream",
          "text": [
            "/var/folders/7n/jy1_ycd91snbbhld0x37jht80000gn/T/ipykernel_86957/3721395026.py:1: SettingWithCopyWarning: \n",
            "A value is trying to be set on a copy of a slice from a DataFrame\n",
            "\n",
            "See the caveats in the documentation: https://pandas.pydata.org/pandas-docs/stable/user_guide/indexing.html#returning-a-view-versus-a-copy\n",
            "  paises_20['Vaccine being used in a country'][3] = 'Oxford/AstraZeneca, Pfizer/BioNTech, Sinovac'\n"
          ]
        }
      ],
      "source": [
        "paises_20['Vaccine being used in a country'][3] = 'Oxford/AstraZeneca, Pfizer/BioNTech, Sinovac'"
      ]
    },
    {
      "cell_type": "markdown",
      "metadata": {
        "id": "rAC5T3b867kx"
      },
      "source": [
        "A continuación se muestran los datos:"
      ]
    },
    {
      "cell_type": "code",
      "execution_count": 6,
      "metadata": {
        "colab": {
          "base_uri": "https://localhost:8080/",
          "height": 677
        },
        "id": "VgeHVQpFn-Os",
        "outputId": "7c25881a-c92f-40f8-a99e-93b5b69ed3f2"
      },
      "outputs": [
        {
          "data": {
            "text/html": [
              "<div>\n",
              "<style scoped>\n",
              "    .dataframe tbody tr th:only-of-type {\n",
              "        vertical-align: middle;\n",
              "    }\n",
              "\n",
              "    .dataframe tbody tr th {\n",
              "        vertical-align: top;\n",
              "    }\n",
              "\n",
              "    .dataframe thead th {\n",
              "        text-align: right;\n",
              "    }\n",
              "</style>\n",
              "<table border=\"1\" class=\"dataframe\">\n",
              "  <thead>\n",
              "    <tr style=\"text-align: right;\">\n",
              "      <th></th>\n",
              "      <th>Country</th>\n",
              "      <th>Doses Administered</th>\n",
              "      <th>Doses per 1000</th>\n",
              "      <th>Fully Vaccinated Population (%)</th>\n",
              "      <th>Vaccine being used in a country</th>\n",
              "    </tr>\n",
              "  </thead>\n",
              "  <tbody>\n",
              "    <tr>\n",
              "      <th>1</th>\n",
              "      <td>United States</td>\n",
              "      <td>323327328</td>\n",
              "      <td>988.3</td>\n",
              "      <td>46.8</td>\n",
              "      <td>Johnson&amp;Johnson, Moderna, Pfizer/BioNTech</td>\n",
              "    </tr>\n",
              "    <tr>\n",
              "      <th>3</th>\n",
              "      <td>Brazil</td>\n",
              "      <td>96804664</td>\n",
              "      <td>462.1</td>\n",
              "      <td>12.2</td>\n",
              "      <td>Oxford/AstraZeneca, Pfizer/BioNTech, Sinovac</td>\n",
              "    </tr>\n",
              "    <tr>\n",
              "      <th>4</th>\n",
              "      <td>United Kingdom</td>\n",
              "      <td>74638083</td>\n",
              "      <td>1122.6</td>\n",
              "      <td>47.4</td>\n",
              "      <td>Moderna, Oxford/AstraZeneca, Pfizer/BioNTech</td>\n",
              "    </tr>\n",
              "    <tr>\n",
              "      <th>5</th>\n",
              "      <td>Germany</td>\n",
              "      <td>72153878</td>\n",
              "      <td>870.1</td>\n",
              "      <td>35.5</td>\n",
              "      <td>Johnson&amp;Johnson, Moderna, Oxford/AstraZeneca, ...</td>\n",
              "    </tr>\n",
              "    <tr>\n",
              "      <th>6</th>\n",
              "      <td>Italy</td>\n",
              "      <td>49890945</td>\n",
              "      <td>825.6</td>\n",
              "      <td>29.4</td>\n",
              "      <td>Johnson&amp;Johnson, Moderna, Oxford/AstraZeneca, ...</td>\n",
              "    </tr>\n",
              "    <tr>\n",
              "      <th>8</th>\n",
              "      <td>France</td>\n",
              "      <td>43803521</td>\n",
              "      <td>653.9</td>\n",
              "      <td>21.0</td>\n",
              "      <td>Johnson&amp;Johnson, Moderna, Oxford/AstraZeneca, ...</td>\n",
              "    </tr>\n",
              "    <tr>\n",
              "      <th>10</th>\n",
              "      <td>Japan</td>\n",
              "      <td>40177951</td>\n",
              "      <td>317.5</td>\n",
              "      <td>10.3</td>\n",
              "      <td>Moderna, Pfizer/BioNTech</td>\n",
              "    </tr>\n",
              "    <tr>\n",
              "      <th>11</th>\n",
              "      <td>Russia</td>\n",
              "      <td>38440164</td>\n",
              "      <td>263.4</td>\n",
              "      <td>11.5</td>\n",
              "      <td>EpiVacCorona, Sputnik V</td>\n",
              "    </tr>\n",
              "    <tr>\n",
              "      <th>12</th>\n",
              "      <td>Mexico</td>\n",
              "      <td>36983641</td>\n",
              "      <td>293.1</td>\n",
              "      <td>11.8</td>\n",
              "      <td>CanSino, Oxford/AstraZeneca, Pfizer/BioNTech, ...</td>\n",
              "    </tr>\n",
              "    <tr>\n",
              "      <th>13</th>\n",
              "      <td>Canada</td>\n",
              "      <td>35495821</td>\n",
              "      <td>957.8</td>\n",
              "      <td>26.9</td>\n",
              "      <td>Moderna, Oxford/AstraZeneca, Pfizer/BioNTech</td>\n",
              "    </tr>\n",
              "    <tr>\n",
              "      <th>14</th>\n",
              "      <td>Spain</td>\n",
              "      <td>32282553</td>\n",
              "      <td>690.9</td>\n",
              "      <td>26.2</td>\n",
              "      <td>Johnson&amp;Johnson, Moderna, Oxford/AstraZeneca, ...</td>\n",
              "    </tr>\n",
              "    <tr>\n",
              "      <th>16</th>\n",
              "      <td>Chile</td>\n",
              "      <td>20403835</td>\n",
              "      <td>1089.4</td>\n",
              "      <td>48.0</td>\n",
              "      <td>CanSino, Oxford/AstraZeneca, Pfizer/BioNTech, ...</td>\n",
              "    </tr>\n",
              "    <tr>\n",
              "      <th>17</th>\n",
              "      <td>Argentina</td>\n",
              "      <td>19749468</td>\n",
              "      <td>443.9</td>\n",
              "      <td>8.8</td>\n",
              "      <td>Oxford/AstraZeneca, Sinopharm/Beijing, Sputnik V</td>\n",
              "    </tr>\n",
              "    <tr>\n",
              "      <th>20</th>\n",
              "      <td>Colombia</td>\n",
              "      <td>15298930</td>\n",
              "      <td>308.1</td>\n",
              "      <td>10.0</td>\n",
              "      <td>Oxford/AstraZeneca, Pfizer/BioNTech, Sinovac</td>\n",
              "    </tr>\n",
              "    <tr>\n",
              "      <th>35</th>\n",
              "      <td>Australia</td>\n",
              "      <td>7326320</td>\n",
              "      <td>293.1</td>\n",
              "      <td>4.9</td>\n",
              "      <td>Oxford/AstraZeneca, Pfizer/BioNTech</td>\n",
              "    </tr>\n",
              "    <tr>\n",
              "      <th>41</th>\n",
              "      <td>Peru</td>\n",
              "      <td>5153895</td>\n",
              "      <td>161.1</td>\n",
              "      <td>5.5</td>\n",
              "      <td>Oxford/AstraZeneca, Pfizer/BioNTech, Sinopharm...</td>\n",
              "    </tr>\n",
              "    <tr>\n",
              "      <th>59</th>\n",
              "      <td>Cuba</td>\n",
              "      <td>3272579</td>\n",
              "      <td>288.6</td>\n",
              "      <td>3.6</td>\n",
              "      <td>Abdala, Soberana02</td>\n",
              "    </tr>\n",
              "    <tr>\n",
              "      <th>66</th>\n",
              "      <td>El Salvador</td>\n",
              "      <td>2674605</td>\n",
              "      <td>416.6</td>\n",
              "      <td>17.0</td>\n",
              "      <td>Oxford/AstraZeneca, Pfizer/BioNTech, Sinovac</td>\n",
              "    </tr>\n",
              "    <tr>\n",
              "      <th>78</th>\n",
              "      <td>Venezuela</td>\n",
              "      <td>1466988</td>\n",
              "      <td>50.8</td>\n",
              "      <td>0.8</td>\n",
              "      <td>BBIBP, CorV, Sputnik V</td>\n",
              "    </tr>\n",
              "    <tr>\n",
              "      <th>98</th>\n",
              "      <td>Guatemala</td>\n",
              "      <td>661648</td>\n",
              "      <td>38.4</td>\n",
              "      <td>0.8</td>\n",
              "      <td>Moderna, Oxford/AstraZeneca</td>\n",
              "    </tr>\n",
              "  </tbody>\n",
              "</table>\n",
              "</div>"
            ],
            "text/plain": [
              "           Country  Doses Administered  Doses per 1000  \\\n",
              "1    United States           323327328           988.3   \n",
              "3           Brazil            96804664           462.1   \n",
              "4   United Kingdom            74638083          1122.6   \n",
              "5          Germany            72153878           870.1   \n",
              "6            Italy            49890945           825.6   \n",
              "8           France            43803521           653.9   \n",
              "10           Japan            40177951           317.5   \n",
              "11          Russia            38440164           263.4   \n",
              "12          Mexico            36983641           293.1   \n",
              "13          Canada            35495821           957.8   \n",
              "14           Spain            32282553           690.9   \n",
              "16           Chile            20403835          1089.4   \n",
              "17       Argentina            19749468           443.9   \n",
              "20        Colombia            15298930           308.1   \n",
              "35       Australia             7326320           293.1   \n",
              "41            Peru             5153895           161.1   \n",
              "59            Cuba             3272579           288.6   \n",
              "66     El Salvador             2674605           416.6   \n",
              "78       Venezuela             1466988            50.8   \n",
              "98       Guatemala              661648            38.4   \n",
              "\n",
              "    Fully Vaccinated Population (%)  \\\n",
              "1                              46.8   \n",
              "3                              12.2   \n",
              "4                              47.4   \n",
              "5                              35.5   \n",
              "6                              29.4   \n",
              "8                              21.0   \n",
              "10                             10.3   \n",
              "11                             11.5   \n",
              "12                             11.8   \n",
              "13                             26.9   \n",
              "14                             26.2   \n",
              "16                             48.0   \n",
              "17                              8.8   \n",
              "20                             10.0   \n",
              "35                              4.9   \n",
              "41                              5.5   \n",
              "59                              3.6   \n",
              "66                             17.0   \n",
              "78                              0.8   \n",
              "98                              0.8   \n",
              "\n",
              "                      Vaccine being used in a country  \n",
              "1           Johnson&Johnson, Moderna, Pfizer/BioNTech  \n",
              "3        Oxford/AstraZeneca, Pfizer/BioNTech, Sinovac  \n",
              "4        Moderna, Oxford/AstraZeneca, Pfizer/BioNTech  \n",
              "5   Johnson&Johnson, Moderna, Oxford/AstraZeneca, ...  \n",
              "6   Johnson&Johnson, Moderna, Oxford/AstraZeneca, ...  \n",
              "8   Johnson&Johnson, Moderna, Oxford/AstraZeneca, ...  \n",
              "10                           Moderna, Pfizer/BioNTech  \n",
              "11                            EpiVacCorona, Sputnik V  \n",
              "12  CanSino, Oxford/AstraZeneca, Pfizer/BioNTech, ...  \n",
              "13       Moderna, Oxford/AstraZeneca, Pfizer/BioNTech  \n",
              "14  Johnson&Johnson, Moderna, Oxford/AstraZeneca, ...  \n",
              "16  CanSino, Oxford/AstraZeneca, Pfizer/BioNTech, ...  \n",
              "17   Oxford/AstraZeneca, Sinopharm/Beijing, Sputnik V  \n",
              "20       Oxford/AstraZeneca, Pfizer/BioNTech, Sinovac  \n",
              "35                Oxford/AstraZeneca, Pfizer/BioNTech  \n",
              "41  Oxford/AstraZeneca, Pfizer/BioNTech, Sinopharm...  \n",
              "59                                 Abdala, Soberana02  \n",
              "66       Oxford/AstraZeneca, Pfizer/BioNTech, Sinovac  \n",
              "78                             BBIBP, CorV, Sputnik V  \n",
              "98                        Moderna, Oxford/AstraZeneca  "
            ]
          },
          "execution_count": 6,
          "metadata": {},
          "output_type": "execute_result"
        }
      ],
      "source": [
        "paises_20"
      ]
    },
    {
      "cell_type": "markdown",
      "metadata": {
        "id": "EZJWYF8u7A_n"
      },
      "source": [
        "## Construcción de Red\n",
        "\n",
        "Primero vamos a obtener las vacunas que se aplicaron e estos países separandolos por la 'coma'."
      ]
    },
    {
      "cell_type": "code",
      "execution_count": 7,
      "metadata": {
        "id": "JF0IfETKhHbd"
      },
      "outputs": [],
      "source": [
        "vacunas_20 = []\n",
        "for i in list(paises_20['Vaccine being used in a country']):\n",
        "  vacunas_20 = vacunas_20 + i.split(', ')"
      ]
    },
    {
      "cell_type": "markdown",
      "metadata": {
        "id": "9m2Hm66V_TSt"
      },
      "source": [
        "Ahora ponermos las listas de nodos. El Nodo Raíz: País. Los nodos secundarios como la lista de países. Los últimos nodos las vacunas."
      ]
    },
    {
      "cell_type": "code",
      "execution_count": 8,
      "metadata": {
        "id": "oV_nD7iGh9e9"
      },
      "outputs": [],
      "source": [
        "# Iniciemos estableciendo las listas\n",
        "\n",
        "root = [\"País\"]\n",
        "\n",
        "main_cluster = list(paises_20.Country)\n",
        "sub_cluster = list(set(vacunas_20))"
      ]
    },
    {
      "cell_type": "markdown",
      "metadata": {
        "id": "_Ed-qHqI_oTy"
      },
      "source": [
        "Vamos a construir las listas de datos a partir de varios cilos ford para concatenar las relaciones de nodos."
      ]
    },
    {
      "cell_type": "code",
      "execution_count": 9,
      "metadata": {
        "id": "CSdDUgotk6iw"
      },
      "outputs": [],
      "source": [
        "# configurar los bordes que están construyendo el gráfico\n",
        "data = []\n",
        "\n",
        "for i in main_cluster:\n",
        "  data.append(root + [i])"
      ]
    },
    {
      "cell_type": "code",
      "execution_count": 10,
      "metadata": {
        "id": "42OHxnqhoIBY"
      },
      "outputs": [],
      "source": [
        "for i in main_cluster:\n",
        "  for j in paises_20[paises_20.Country == i].iloc[0][4].split(', '):\n",
        "    data.append([i] + [j])"
      ]
    },
    {
      "cell_type": "code",
      "execution_count": 11,
      "metadata": {
        "colab": {
          "base_uri": "https://localhost:8080/"
        },
        "id": "Hf_UrvbOotgT",
        "outputId": "fea8071a-7785-4e67-a495-ce4df8b09aae"
      },
      "outputs": [
        {
          "data": {
            "text/plain": [
              "[['País', 'United States'],\n",
              " ['País', 'Brazil'],\n",
              " ['País', 'United Kingdom'],\n",
              " ['País', 'Germany'],\n",
              " ['País', 'Italy'],\n",
              " ['País', 'France'],\n",
              " ['País', 'Japan'],\n",
              " ['País', 'Russia'],\n",
              " ['País', 'Mexico'],\n",
              " ['País', 'Canada'],\n",
              " ['País', 'Spain'],\n",
              " ['País', 'Chile'],\n",
              " ['País', 'Argentina'],\n",
              " ['País', 'Colombia'],\n",
              " ['País', 'Australia'],\n",
              " ['País', 'Peru'],\n",
              " ['País', 'Cuba'],\n",
              " ['País', 'El Salvador'],\n",
              " ['País', 'Venezuela'],\n",
              " ['País', 'Guatemala'],\n",
              " ['United States', 'Johnson&Johnson'],\n",
              " ['United States', 'Moderna'],\n",
              " ['United States', 'Pfizer/BioNTech'],\n",
              " ['Brazil', 'Oxford/AstraZeneca'],\n",
              " ['Brazil', 'Pfizer/BioNTech'],\n",
              " ['Brazil', 'Sinovac'],\n",
              " ['United Kingdom', 'Moderna'],\n",
              " ['United Kingdom', 'Oxford/AstraZeneca'],\n",
              " ['United Kingdom', 'Pfizer/BioNTech'],\n",
              " ['Germany', 'Johnson&Johnson'],\n",
              " ['Germany', 'Moderna'],\n",
              " ['Germany', 'Oxford/AstraZeneca'],\n",
              " ['Germany', 'Pfizer/BioNTech'],\n",
              " ['Italy', 'Johnson&Johnson'],\n",
              " ['Italy', 'Moderna'],\n",
              " ['Italy', 'Oxford/AstraZeneca'],\n",
              " ['Italy', 'Pfizer/BioNTech'],\n",
              " ['France', 'Johnson&Johnson'],\n",
              " ['France', 'Moderna'],\n",
              " ['France', 'Oxford/AstraZeneca'],\n",
              " ['France', 'Pfizer/BioNTech'],\n",
              " ['Japan', 'Moderna'],\n",
              " ['Japan', 'Pfizer/BioNTech'],\n",
              " ['Russia', 'EpiVacCorona'],\n",
              " ['Russia', 'Sputnik V'],\n",
              " ['Mexico', 'CanSino'],\n",
              " ['Mexico', 'Oxford/AstraZeneca'],\n",
              " ['Mexico', 'Pfizer/BioNTech'],\n",
              " ['Mexico', 'Sinovac'],\n",
              " ['Mexico', 'Sputnik V'],\n",
              " ['Canada', 'Moderna'],\n",
              " ['Canada', 'Oxford/AstraZeneca'],\n",
              " ['Canada', 'Pfizer/BioNTech'],\n",
              " ['Spain', 'Johnson&Johnson'],\n",
              " ['Spain', 'Moderna'],\n",
              " ['Spain', 'Oxford/AstraZeneca'],\n",
              " ['Spain', 'Pfizer/BioNTech'],\n",
              " ['Chile', 'CanSino'],\n",
              " ['Chile', 'Oxford/AstraZeneca'],\n",
              " ['Chile', 'Pfizer/BioNTech'],\n",
              " ['Chile', 'Sinovac'],\n",
              " ['Argentina', 'Oxford/AstraZeneca'],\n",
              " ['Argentina', 'Sinopharm/Beijing'],\n",
              " ['Argentina', 'Sputnik V'],\n",
              " ['Colombia', 'Oxford/AstraZeneca'],\n",
              " ['Colombia', 'Pfizer/BioNTech'],\n",
              " ['Colombia', 'Sinovac'],\n",
              " ['Australia', 'Oxford/AstraZeneca'],\n",
              " ['Australia', 'Pfizer/BioNTech'],\n",
              " ['Peru', 'Oxford/AstraZeneca'],\n",
              " ['Peru', 'Pfizer/BioNTech'],\n",
              " ['Peru', 'Sinopharm/Beijing'],\n",
              " ['Cuba', 'Abdala'],\n",
              " ['Cuba', 'Soberana02'],\n",
              " ['El Salvador', 'Oxford/AstraZeneca'],\n",
              " ['El Salvador', 'Pfizer/BioNTech'],\n",
              " ['El Salvador', 'Sinovac'],\n",
              " ['Venezuela', 'BBIBP'],\n",
              " ['Venezuela', 'CorV'],\n",
              " ['Venezuela', 'Sputnik V'],\n",
              " ['Guatemala', 'Moderna'],\n",
              " ['Guatemala', 'Oxford/AstraZeneca']]"
            ]
          },
          "execution_count": 11,
          "metadata": {},
          "output_type": "execute_result"
        }
      ],
      "source": [
        "data"
      ]
    },
    {
      "cell_type": "markdown",
      "metadata": {
        "id": "2ZeOqRi_BKld"
      },
      "source": [
        "Finalmente Grafícaremos."
      ]
    },
    {
      "cell_type": "code",
      "execution_count": null,
      "metadata": {},
      "outputs": [],
      "source": [
        "!pip install more-itertools"
      ]
    },
    {
      "cell_type": "code",
      "execution_count": null,
      "metadata": {
        "colab": {
          "base_uri": "https://localhost:8080/",
          "height": 808
        },
        "id": "zCql6rp9pbAk",
        "outputId": "a45ba7b6-d812-45c3-848e-c83662ae177d"
      },
      "outputs": [],
      "source": [
        "# Grafiquemos\n",
        "\n",
        "\"\"\"Define edges.\"\"\"\n",
        "from more_itertools import locate\n",
        "\n",
        "test_nw = Network(height='750px', width=\"100%\", notebook=True)\n",
        "nodes = root + main_cluster + sub_cluster\n",
        "\n",
        "# añadir nodo raíz\n",
        "root_node = list(locate(nodes, lambda x: x in root))\n",
        "root_size, root_color = [35 for _ in root], [\"red\" for _ in root]\n",
        "\n",
        "test_nw.add_nodes(root_node, size=root_size, label=root, color=root_color)\n",
        "\n",
        "# agregar nodos cluster principal.\n",
        "main_nodes = list(locate(nodes, lambda x: x in main_cluster))\n",
        "main_size, main_color = [30 for _ in main_cluster], [\"orange\" for _ in main_cluster]\n",
        "\n",
        "test_nw.add_nodes(main_nodes, size=main_size, label=main_cluster, color=main_color)\n",
        "\n",
        "# agregar nodos de subclúster\n",
        "sub_nodes = list(locate(nodes, lambda x: x in sub_cluster))\n",
        "sub_size, sub_color = [25 for _ in sub_cluster], [\"green\" for _ in sub_cluster]\n",
        "\n",
        "test_nw.add_nodes(sub_nodes, size=sub_size, label=sub_cluster, color=sub_color)\n",
        "\n",
        "\n",
        "# agregar bordes\n",
        "for edge in data:\n",
        "    node_from, node_to = list(locate(nodes, lambda x: x in edge))\n",
        "    test_nw.add_edge(node_from, node_to)\n",
        "\n",
        "test_nw.show(\"practica.html\")\n",
        "IPython.display.HTML(filename = \"practica.html\")"
      ]
    },
    {
      "cell_type": "markdown",
      "metadata": {},
      "source": [
        "![Cat](Cap.png)"
      ]
    },
    {
      "cell_type": "markdown",
      "metadata": {
        "id": "7XdXGv14Bk6i"
      },
      "source": [
        "Como se puede ver, la red se divide en 3 secciones principalmente, países desarrollados que palican principalmente AztraZeneca, Pfizer, Moderna, y Johnson. Luego hay otro grupo de países latinoamericanos que aplican además vacunas como sinovac, Cansino. Hay otro grupo que aplica Sputnik, que son países mucho más cercanos a Rusia como Venezuela. Cuba, al ser un país comunista con bloqueo solo aplico su propia vacuna."
      ]
    }
  ],
  "metadata": {
    "colab": {
      "name": "T12.ipynb",
      "provenance": []
    },
    "interpreter": {
      "hash": "aee8b7b246df8f9039afb4144a1f6fd8d2ca17a180786b69acc140d282b71a49"
    },
    "kernelspec": {
      "display_name": "Python 3.9.12 64-bit",
      "language": "python",
      "name": "python3"
    },
    "language_info": {
      "codemirror_mode": {
        "name": "ipython",
        "version": 3
      },
      "file_extension": ".py",
      "mimetype": "text/x-python",
      "name": "python",
      "nbconvert_exporter": "python",
      "pygments_lexer": "ipython3",
      "version": "3.9.12"
    }
  },
  "nbformat": 4,
  "nbformat_minor": 0
}
