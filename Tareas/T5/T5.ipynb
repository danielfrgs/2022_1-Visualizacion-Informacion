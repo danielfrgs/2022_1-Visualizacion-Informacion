{
 "cells": [
  {
   "cell_type": "markdown",
   "metadata": {},
   "source": [
    "## Filtrado de Datos\n",
    "Haga la lectura del archivo \"titanic3.csv\" y responda las siguientes preguntas:"
   ]
  },
  {
   "cell_type": "code",
   "execution_count": 1,
   "metadata": {},
   "outputs": [],
   "source": [
    "# importamos las librerias\n",
    "import pandas as pd\n",
    "import numpy as np"
   ]
  },
  {
   "cell_type": "code",
   "execution_count": 2,
   "metadata": {},
   "outputs": [
    {
     "data": {
      "text/html": [
       "<div>\n",
       "<style scoped>\n",
       "    .dataframe tbody tr th:only-of-type {\n",
       "        vertical-align: middle;\n",
       "    }\n",
       "\n",
       "    .dataframe tbody tr th {\n",
       "        vertical-align: top;\n",
       "    }\n",
       "\n",
       "    .dataframe thead th {\n",
       "        text-align: right;\n",
       "    }\n",
       "</style>\n",
       "<table border=\"1\" class=\"dataframe\">\n",
       "  <thead>\n",
       "    <tr style=\"text-align: right;\">\n",
       "      <th></th>\n",
       "      <th>pclass</th>\n",
       "      <th>survived</th>\n",
       "      <th>name</th>\n",
       "      <th>sex</th>\n",
       "      <th>age</th>\n",
       "      <th>sibsp</th>\n",
       "      <th>parch</th>\n",
       "      <th>ticket</th>\n",
       "      <th>fare</th>\n",
       "      <th>cabin</th>\n",
       "      <th>embarked</th>\n",
       "      <th>boat</th>\n",
       "      <th>body</th>\n",
       "      <th>home.dest</th>\n",
       "    </tr>\n",
       "  </thead>\n",
       "  <tbody>\n",
       "    <tr>\n",
       "      <th>0</th>\n",
       "      <td>1</td>\n",
       "      <td>1</td>\n",
       "      <td>Allen, Miss. Elisabeth Walton</td>\n",
       "      <td>female</td>\n",
       "      <td>29.0000</td>\n",
       "      <td>0</td>\n",
       "      <td>0</td>\n",
       "      <td>24160</td>\n",
       "      <td>211.3375</td>\n",
       "      <td>B5</td>\n",
       "      <td>S</td>\n",
       "      <td>2</td>\n",
       "      <td>NaN</td>\n",
       "      <td>St Louis, MO</td>\n",
       "    </tr>\n",
       "    <tr>\n",
       "      <th>1</th>\n",
       "      <td>1</td>\n",
       "      <td>1</td>\n",
       "      <td>Allison, Master. Hudson Trevor</td>\n",
       "      <td>male</td>\n",
       "      <td>0.9167</td>\n",
       "      <td>1</td>\n",
       "      <td>2</td>\n",
       "      <td>113781</td>\n",
       "      <td>151.5500</td>\n",
       "      <td>C22 C26</td>\n",
       "      <td>S</td>\n",
       "      <td>11</td>\n",
       "      <td>NaN</td>\n",
       "      <td>Montreal, PQ / Chesterville, ON</td>\n",
       "    </tr>\n",
       "    <tr>\n",
       "      <th>2</th>\n",
       "      <td>1</td>\n",
       "      <td>0</td>\n",
       "      <td>Allison, Miss. Helen Loraine</td>\n",
       "      <td>female</td>\n",
       "      <td>2.0000</td>\n",
       "      <td>1</td>\n",
       "      <td>2</td>\n",
       "      <td>113781</td>\n",
       "      <td>151.5500</td>\n",
       "      <td>C22 C26</td>\n",
       "      <td>S</td>\n",
       "      <td>NaN</td>\n",
       "      <td>NaN</td>\n",
       "      <td>Montreal, PQ / Chesterville, ON</td>\n",
       "    </tr>\n",
       "    <tr>\n",
       "      <th>3</th>\n",
       "      <td>1</td>\n",
       "      <td>0</td>\n",
       "      <td>Allison, Mr. Hudson Joshua Creighton</td>\n",
       "      <td>male</td>\n",
       "      <td>30.0000</td>\n",
       "      <td>1</td>\n",
       "      <td>2</td>\n",
       "      <td>113781</td>\n",
       "      <td>151.5500</td>\n",
       "      <td>C22 C26</td>\n",
       "      <td>S</td>\n",
       "      <td>NaN</td>\n",
       "      <td>135.0</td>\n",
       "      <td>Montreal, PQ / Chesterville, ON</td>\n",
       "    </tr>\n",
       "    <tr>\n",
       "      <th>4</th>\n",
       "      <td>1</td>\n",
       "      <td>0</td>\n",
       "      <td>Allison, Mrs. Hudson J C (Bessie Waldo Daniels)</td>\n",
       "      <td>female</td>\n",
       "      <td>25.0000</td>\n",
       "      <td>1</td>\n",
       "      <td>2</td>\n",
       "      <td>113781</td>\n",
       "      <td>151.5500</td>\n",
       "      <td>C22 C26</td>\n",
       "      <td>S</td>\n",
       "      <td>NaN</td>\n",
       "      <td>NaN</td>\n",
       "      <td>Montreal, PQ / Chesterville, ON</td>\n",
       "    </tr>\n",
       "    <tr>\n",
       "      <th>...</th>\n",
       "      <td>...</td>\n",
       "      <td>...</td>\n",
       "      <td>...</td>\n",
       "      <td>...</td>\n",
       "      <td>...</td>\n",
       "      <td>...</td>\n",
       "      <td>...</td>\n",
       "      <td>...</td>\n",
       "      <td>...</td>\n",
       "      <td>...</td>\n",
       "      <td>...</td>\n",
       "      <td>...</td>\n",
       "      <td>...</td>\n",
       "      <td>...</td>\n",
       "    </tr>\n",
       "    <tr>\n",
       "      <th>1304</th>\n",
       "      <td>3</td>\n",
       "      <td>0</td>\n",
       "      <td>Zabour, Miss. Hileni</td>\n",
       "      <td>female</td>\n",
       "      <td>14.5000</td>\n",
       "      <td>1</td>\n",
       "      <td>0</td>\n",
       "      <td>2665</td>\n",
       "      <td>14.4542</td>\n",
       "      <td>NaN</td>\n",
       "      <td>C</td>\n",
       "      <td>NaN</td>\n",
       "      <td>328.0</td>\n",
       "      <td>NaN</td>\n",
       "    </tr>\n",
       "    <tr>\n",
       "      <th>1305</th>\n",
       "      <td>3</td>\n",
       "      <td>0</td>\n",
       "      <td>Zabour, Miss. Thamine</td>\n",
       "      <td>female</td>\n",
       "      <td>NaN</td>\n",
       "      <td>1</td>\n",
       "      <td>0</td>\n",
       "      <td>2665</td>\n",
       "      <td>14.4542</td>\n",
       "      <td>NaN</td>\n",
       "      <td>C</td>\n",
       "      <td>NaN</td>\n",
       "      <td>NaN</td>\n",
       "      <td>NaN</td>\n",
       "    </tr>\n",
       "    <tr>\n",
       "      <th>1306</th>\n",
       "      <td>3</td>\n",
       "      <td>0</td>\n",
       "      <td>Zakarian, Mr. Mapriededer</td>\n",
       "      <td>male</td>\n",
       "      <td>26.5000</td>\n",
       "      <td>0</td>\n",
       "      <td>0</td>\n",
       "      <td>2656</td>\n",
       "      <td>7.2250</td>\n",
       "      <td>NaN</td>\n",
       "      <td>C</td>\n",
       "      <td>NaN</td>\n",
       "      <td>304.0</td>\n",
       "      <td>NaN</td>\n",
       "    </tr>\n",
       "    <tr>\n",
       "      <th>1307</th>\n",
       "      <td>3</td>\n",
       "      <td>0</td>\n",
       "      <td>Zakarian, Mr. Ortin</td>\n",
       "      <td>male</td>\n",
       "      <td>27.0000</td>\n",
       "      <td>0</td>\n",
       "      <td>0</td>\n",
       "      <td>2670</td>\n",
       "      <td>7.2250</td>\n",
       "      <td>NaN</td>\n",
       "      <td>C</td>\n",
       "      <td>NaN</td>\n",
       "      <td>NaN</td>\n",
       "      <td>NaN</td>\n",
       "    </tr>\n",
       "    <tr>\n",
       "      <th>1308</th>\n",
       "      <td>3</td>\n",
       "      <td>0</td>\n",
       "      <td>Zimmerman, Mr. Leo</td>\n",
       "      <td>male</td>\n",
       "      <td>29.0000</td>\n",
       "      <td>0</td>\n",
       "      <td>0</td>\n",
       "      <td>315082</td>\n",
       "      <td>7.8750</td>\n",
       "      <td>NaN</td>\n",
       "      <td>S</td>\n",
       "      <td>NaN</td>\n",
       "      <td>NaN</td>\n",
       "      <td>NaN</td>\n",
       "    </tr>\n",
       "  </tbody>\n",
       "</table>\n",
       "<p>1309 rows × 14 columns</p>\n",
       "</div>"
      ],
      "text/plain": [
       "      pclass  survived                                             name  \\\n",
       "0          1         1                    Allen, Miss. Elisabeth Walton   \n",
       "1          1         1                   Allison, Master. Hudson Trevor   \n",
       "2          1         0                     Allison, Miss. Helen Loraine   \n",
       "3          1         0             Allison, Mr. Hudson Joshua Creighton   \n",
       "4          1         0  Allison, Mrs. Hudson J C (Bessie Waldo Daniels)   \n",
       "...      ...       ...                                              ...   \n",
       "1304       3         0                             Zabour, Miss. Hileni   \n",
       "1305       3         0                            Zabour, Miss. Thamine   \n",
       "1306       3         0                        Zakarian, Mr. Mapriededer   \n",
       "1307       3         0                              Zakarian, Mr. Ortin   \n",
       "1308       3         0                               Zimmerman, Mr. Leo   \n",
       "\n",
       "         sex      age  sibsp  parch  ticket      fare    cabin embarked boat  \\\n",
       "0     female  29.0000      0      0   24160  211.3375       B5        S    2   \n",
       "1       male   0.9167      1      2  113781  151.5500  C22 C26        S   11   \n",
       "2     female   2.0000      1      2  113781  151.5500  C22 C26        S  NaN   \n",
       "3       male  30.0000      1      2  113781  151.5500  C22 C26        S  NaN   \n",
       "4     female  25.0000      1      2  113781  151.5500  C22 C26        S  NaN   \n",
       "...      ...      ...    ...    ...     ...       ...      ...      ...  ...   \n",
       "1304  female  14.5000      1      0    2665   14.4542      NaN        C  NaN   \n",
       "1305  female      NaN      1      0    2665   14.4542      NaN        C  NaN   \n",
       "1306    male  26.5000      0      0    2656    7.2250      NaN        C  NaN   \n",
       "1307    male  27.0000      0      0    2670    7.2250      NaN        C  NaN   \n",
       "1308    male  29.0000      0      0  315082    7.8750      NaN        S  NaN   \n",
       "\n",
       "       body                        home.dest  \n",
       "0       NaN                     St Louis, MO  \n",
       "1       NaN  Montreal, PQ / Chesterville, ON  \n",
       "2       NaN  Montreal, PQ / Chesterville, ON  \n",
       "3     135.0  Montreal, PQ / Chesterville, ON  \n",
       "4       NaN  Montreal, PQ / Chesterville, ON  \n",
       "...     ...                              ...  \n",
       "1304  328.0                              NaN  \n",
       "1305    NaN                              NaN  \n",
       "1306  304.0                              NaN  \n",
       "1307    NaN                              NaN  \n",
       "1308    NaN                              NaN  \n",
       "\n",
       "[1309 rows x 14 columns]"
      ]
     },
     "execution_count": 2,
     "metadata": {},
     "output_type": "execute_result"
    }
   ],
   "source": [
    "# lectura de los datos:\n",
    "titanic = pd.read_csv('titanic3.csv')\n",
    "titanic"
   ]
  },
  {
   "cell_type": "markdown",
   "metadata": {},
   "source": [
    " i) ¿Cuántos cuerpos fueron encontrados?\n",
    "\n",
    " Notemos que la categoria de 'body' esta enumerado, es decir que en teoria todos son registros únicos, el valor más alto correspode al numero de cuerpos de cuerpos encontrados:"
   ]
  },
  {
   "cell_type": "code",
   "execution_count": 3,
   "metadata": {},
   "outputs": [
    {
     "data": {
      "text/plain": [
       "328.0"
      ]
     },
     "execution_count": 3,
     "metadata": {},
     "output_type": "execute_result"
    }
   ],
   "source": [
    "max(titanic['body'].dropna())"
   ]
  },
  {
   "cell_type": "markdown",
   "metadata": {},
   "source": [
    "Es decir que en total se ecnontraron **328** cuerpos; investigando un poco más a fondo descubrimos que este dato es real; tan solo consiguieron recuperar a lo largo de tres meses 328 cuerpos. De ellos, 119 fueron arrojados de nuevo al mar. De los 209 restantes, 150 no fueron reclamados por sus familiares y se les dio sepultura en varios cementerios de Halifax, en Nueva Escocia. Por lo tanto, tan solo 59 fueron recuperados, identificados y enterrados de la manera tradicional.\n",
    "\n",
    "Auqnue en realidad en esta base de datos olo estan registrados **121** cuerpos."
   ]
  },
  {
   "cell_type": "code",
   "execution_count": 4,
   "metadata": {},
   "outputs": [
    {
     "data": {
      "text/plain": [
       "121"
      ]
     },
     "execution_count": 4,
     "metadata": {},
     "output_type": "execute_result"
    }
   ],
   "source": [
    "cuerpos = titanic[titanic['body'].notnull()]\n",
    "len(cuerpos)"
   ]
  },
  {
   "cell_type": "markdown",
   "metadata": {},
   "source": [
    "ii) ¿Cuántos de ellos fueron hombres mayores a cuarenta años?\n",
    "\n",
    "Tomamos el subdataframe de los cuerpos, y vamos a filtrar de forma que `sex = male` y `age > 40`"
   ]
  },
  {
   "cell_type": "code",
   "execution_count": 5,
   "metadata": {},
   "outputs": [
    {
     "data": {
      "text/plain": [
       "39"
      ]
     },
     "execution_count": 5,
     "metadata": {},
     "output_type": "execute_result"
    }
   ],
   "source": [
    "len(cuerpos[(cuerpos['sex'] == 'male') & (cuerpos['age'] > 40)])"
   ]
  },
  {
   "cell_type": "markdown",
   "metadata": {},
   "source": [
    "Solo 39 de los cuerpos registrados en esta base de datos fueron hombre mayores de 40"
   ]
  },
  {
   "cell_type": "markdown",
   "metadata": {},
   "source": [
    "iii) ¿Cuantas mujeres desaparecieron entre las edades de 15 a 35 años?"
   ]
  },
  {
   "cell_type": "code",
   "execution_count": 6,
   "metadata": {},
   "outputs": [
    {
     "data": {
      "text/plain": [
       "51"
      ]
     },
     "execution_count": 6,
     "metadata": {},
     "output_type": "execute_result"
    }
   ],
   "source": [
    " # Base de datos de muejres entre 15 y 35\n",
    "mujeres = titanic[(titanic['sex'] == 'female') & (titanic['age'] >= 15) & (titanic['age'] <= 35)]\n",
    "\n",
    "# Vamos a considerar como desaparecidas aquellas que no sobrevivieron, y que ademas\n",
    "# no hay registro de un cuerpo encotrado \n",
    "len(mujeres[(mujeres.survived == 0) & (mujeres.body.isnull())])"
   ]
  },
  {
   "cell_type": "markdown",
   "metadata": {},
   "source": [
    "**51** Mujeres entre 15 y 35 años se pueden cosniderar con el estatus de desaparecidas."
   ]
  },
  {
   "cell_type": "markdown",
   "metadata": {},
   "source": [
    "iv) ¿Cuantos hombres mayores a 20 años sobrevivieron?"
   ]
  },
  {
   "cell_type": "code",
   "execution_count": 7,
   "metadata": {},
   "outputs": [
    {
     "data": {
      "text/plain": [
       "96"
      ]
     },
     "execution_count": 7,
     "metadata": {},
     "output_type": "execute_result"
    }
   ],
   "source": [
    "len(titanic[(titanic['sex'] == 'male') & (titanic['age'] > 20) & (titanic.survived == 1)])"
   ]
  },
  {
   "cell_type": "markdown",
   "metadata": {},
   "source": [
    "**96** Hombres mayores de 20 sobrevivieron."
   ]
  },
  {
   "cell_type": "markdown",
   "metadata": {},
   "source": [
    " v) ¿Cuantas mujeres menores a 25 años sobrevivieron?."
   ]
  },
  {
   "cell_type": "code",
   "execution_count": 8,
   "metadata": {},
   "outputs": [
    {
     "data": {
      "text/plain": [
       "124"
      ]
     },
     "execution_count": 8,
     "metadata": {},
     "output_type": "execute_result"
    }
   ],
   "source": [
    "len(titanic[(titanic['sex'] == 'female') & (titanic['age'] < 25) & (titanic.survived == 1)])"
   ]
  },
  {
   "cell_type": "markdown",
   "metadata": {},
   "source": [
    "**124** Mujeres menores de 25 sobrevivieron.\n"
   ]
  },
  {
   "cell_type": "markdown",
   "metadata": {},
   "source": [
    "Además, Genere una copia del conjunto de datos y rellene los datos faltantes (NA's) con un valor de 0 en el caso de datos numéricos usados como identificador la palabra \"desconocido\" en el caso de datos tipo cadena de caracteres y en el caso de variables numéricas use el promedio de los valores de esa columna (p.ej., la edad y la tarifa)."
   ]
  },
  {
   "cell_type": "code",
   "execution_count": 9,
   "metadata": {},
   "outputs": [
    {
     "data": {
      "text/plain": [
       "pclass         int64\n",
       "survived       int64\n",
       "name          object\n",
       "sex           object\n",
       "age          float64\n",
       "sibsp          int64\n",
       "parch          int64\n",
       "ticket        object\n",
       "fare         float64\n",
       "cabin         object\n",
       "embarked      object\n",
       "boat          object\n",
       "body         float64\n",
       "home.dest     object\n",
       "dtype: object"
      ]
     },
     "execution_count": 9,
     "metadata": {},
     "output_type": "execute_result"
    }
   ],
   "source": [
    "# Primero veamos el tipo de cada variable:\n",
    "titanic.dtypes"
   ]
  },
  {
   "cell_type": "code",
   "execution_count": 10,
   "metadata": {},
   "outputs": [
    {
     "name": "stdout",
     "output_type": "stream",
     "text": [
      "El número de datos faltantes en la columan pclass es 0\n",
      "El número de datos faltantes en la columan survived es 0\n",
      "El número de datos faltantes en la columan name es 0\n",
      "El número de datos faltantes en la columan sex es 0\n",
      "El número de datos faltantes en la columan age es 263\n",
      "El número de datos faltantes en la columan sibsp es 0\n",
      "El número de datos faltantes en la columan parch es 0\n",
      "El número de datos faltantes en la columan ticket es 0\n",
      "El número de datos faltantes en la columan fare es 1\n",
      "El número de datos faltantes en la columan cabin es 1014\n",
      "El número de datos faltantes en la columan embarked es 2\n",
      "El número de datos faltantes en la columan boat es 823\n",
      "El número de datos faltantes en la columan body es 1188\n",
      "El número de datos faltantes en la columan home.dest es 564\n"
     ]
    }
   ],
   "source": [
    "for x in list(titanic.columns):\n",
    "    y =  titanic[x].isna().sum()\n",
    "    print('El número de datos faltantes en la columan {} es {}'.format(x,y))"
   ]
  },
  {
   "cell_type": "code",
   "execution_count": 20,
   "metadata": {},
   "outputs": [],
   "source": [
    "titanic_2 = titanic.copy()\n",
    "# Media para la edad\n",
    "titanic_2.age = titanic_2.age.fillna(np.mean(titanic_2.age))\n",
    "# Media para fare\n",
    "titanic_2.fare = titanic_2.fare.fillna(np.mean(titanic_2.fare))\n",
    "# Desconocido para cabina \n",
    "titanic_2.cabin = titanic_2.cabin.fillna('desconocido')\n",
    "# desconocido para embarked\n",
    "titanic_2.embarked = titanic_2.embarked.fillna('desconocido')\n",
    "# 0 para boat \n",
    "titanic_2.boat = titanic_2.boat.fillna(0)\n",
    "# 0 para cuerpo\n",
    "titanic_2.body = titanic_2.body.fillna(0)\n",
    "# desconocido para home.dest\n",
    "titanic_2['home.dest'] = titanic_2['home.dest'].fillna('desconocido')\n"
   ]
  },
  {
   "cell_type": "code",
   "execution_count": 12,
   "metadata": {},
   "outputs": [
    {
     "name": "stdout",
     "output_type": "stream",
     "text": [
      "El número de datos faltantes en la columan pclass es 0\n",
      "El número de datos faltantes en la columan survived es 0\n",
      "El número de datos faltantes en la columan name es 0\n",
      "El número de datos faltantes en la columan sex es 0\n",
      "El número de datos faltantes en la columan age es 263\n",
      "El número de datos faltantes en la columan sibsp es 0\n",
      "El número de datos faltantes en la columan parch es 0\n",
      "El número de datos faltantes en la columan ticket es 0\n",
      "El número de datos faltantes en la columan fare es 1\n",
      "El número de datos faltantes en la columan cabin es 1014\n",
      "El número de datos faltantes en la columan embarked es 2\n",
      "El número de datos faltantes en la columan boat es 823\n",
      "El número de datos faltantes en la columan body es 1188\n",
      "El número de datos faltantes en la columan home.dest es 564\n"
     ]
    }
   ],
   "source": [
    "for x in list(titanic_2.columns):\n",
    "    y =  titanic[x].isna().sum()\n",
    "    print('El número de datos faltantes en la columan {} es {}'.format(x,y))"
   ]
  },
  {
   "cell_type": "markdown",
   "metadata": {},
   "source": [
    "Finalmente, de los campos \"age\" y \"fare\" agregue columnas al conjunto de datos qué contengan los valores normalizados. Elija la normalización tipo $\\frac{x_{i}-\\bar{x}}{\\sigma}$ para el caso de que la variable tenga una distribución normal y utilice la normalización tipo $\\frac{x_{i}-x_{\\min }}{x_{\\max }-x_{\\min }}$ en cualquier otro caso."
   ]
  },
  {
   "cell_type": "code",
   "execution_count": 80,
   "metadata": {},
   "outputs": [
    {
     "data": {
      "text/html": [
       "<div>\n",
       "<style scoped>\n",
       "    .dataframe tbody tr th:only-of-type {\n",
       "        vertical-align: middle;\n",
       "    }\n",
       "\n",
       "    .dataframe tbody tr th {\n",
       "        vertical-align: top;\n",
       "    }\n",
       "\n",
       "    .dataframe thead th {\n",
       "        text-align: right;\n",
       "    }\n",
       "</style>\n",
       "<table border=\"1\" class=\"dataframe\">\n",
       "  <thead>\n",
       "    <tr style=\"text-align: right;\">\n",
       "      <th></th>\n",
       "      <th>sumsquare_error</th>\n",
       "      <th>aic</th>\n",
       "      <th>bic</th>\n",
       "      <th>kl_div</th>\n",
       "    </tr>\n",
       "  </thead>\n",
       "  <tbody>\n",
       "    <tr>\n",
       "      <th>norm</th>\n",
       "      <td>0.076207</td>\n",
       "      <td>1081.859612</td>\n",
       "      <td>-12750.116452</td>\n",
       "      <td>inf</td>\n",
       "    </tr>\n",
       "  </tbody>\n",
       "</table>\n",
       "</div>"
      ],
      "text/plain": [
       "      sumsquare_error          aic           bic  kl_div\n",
       "norm         0.076207  1081.859612 -12750.116452     inf"
      ]
     },
     "execution_count": 80,
     "metadata": {},
     "output_type": "execute_result"
    },
    {
     "data": {
      "image/png": "[encoded data removed]",
      "text/plain": [
       "<Figure size 432x288 with 1 Axes>"
      ]
     },
     "metadata": {
      "needs_background": "light"
     },
     "output_type": "display_data"
    }
   ],
   "source": [
    "import matplotlib as plt\n",
    "\n",
    "age = titanic_2[\"age\"].values\n",
    "\n",
    "# Distribuciones\n",
    "\n",
    "from fitter import Fitter, get_common_distributions, get_distributions\n",
    "\n",
    "f = Fitter(age,\n",
    "           distributions=[\"norm\"])\n",
    "f.fit()\n",
    "f.summary()\n",
    "\n"
   ]
  },
  {
   "cell_type": "code",
   "execution_count": 79,
   "metadata": {},
   "outputs": [
    {
     "data": {
      "text/html": [
       "<div>\n",
       "<style scoped>\n",
       "    .dataframe tbody tr th:only-of-type {\n",
       "        vertical-align: middle;\n",
       "    }\n",
       "\n",
       "    .dataframe tbody tr th {\n",
       "        vertical-align: top;\n",
       "    }\n",
       "\n",
       "    .dataframe thead th {\n",
       "        text-align: right;\n",
       "    }\n",
       "</style>\n",
       "<table border=\"1\" class=\"dataframe\">\n",
       "  <thead>\n",
       "    <tr style=\"text-align: right;\">\n",
       "      <th></th>\n",
       "      <th>sumsquare_error</th>\n",
       "      <th>aic</th>\n",
       "      <th>bic</th>\n",
       "      <th>kl_div</th>\n",
       "    </tr>\n",
       "  </thead>\n",
       "  <tbody>\n",
       "    <tr>\n",
       "      <th>norm</th>\n",
       "      <td>0.004974</td>\n",
       "      <td>3651.549809</td>\n",
       "      <td>-16322.699915</td>\n",
       "      <td>inf</td>\n",
       "    </tr>\n",
       "  </tbody>\n",
       "</table>\n",
       "</div>"
      ],
      "text/plain": [
       "      sumsquare_error          aic           bic  kl_div\n",
       "norm         0.004974  3651.549809 -16322.699915     inf"
      ]
     },
     "execution_count": 79,
     "metadata": {},
     "output_type": "execute_result"
    },
    {
     "data": {
      "image/png": "[encoded data removed]",
      "text/plain": [
       "<Figure size 432x288 with 1 Axes>"
      ]
     },
     "metadata": {
      "needs_background": "light"
     },
     "output_type": "display_data"
    }
   ],
   "source": [
    "fare = titanic_2[\"fare\"].values\n",
    "\n",
    "# Distribuciones\n",
    "\n",
    "from fitter import Fitter, get_common_distributions, get_distributions\n",
    "\n",
    "f = Fitter(fare,\n",
    "           distributions=[\"norm\"])\n",
    "f.fit()\n",
    "f.summary()\n"
   ]
  },
  {
   "cell_type": "markdown",
   "metadata": {},
   "source": [
    "Como era de esperarse, la variable de edad es la que mayor similitud a una distribución normal, sin embargo, hay un sobre ajuste al rededor de la media debido a la sustituciones de los valores faltantes que hicimos."
   ]
  },
  {
   "cell_type": "code",
   "execution_count": 21,
   "metadata": {},
   "outputs": [],
   "source": [
    "titanic_2['age_2'] = (titanic_2['age'] - np.mean(titanic_2['age']))/(np.std(titanic_2['age']))\n",
    "titanic_2['fare_2'] = (titanic_2['fare'] - np.min(titanic_2['fare']))/(np.max(titanic_2['fare'])-np.min(titanic_2['fare']))"
   ]
  },
  {
   "cell_type": "markdown",
   "metadata": {},
   "source": [
    "## Distancias:\n",
    "Utilizando el archivo “movies.csv” construya una o varias funciones qué\n",
    "permitan calcular una matriz de distancias para los datos numéricos en el dataFrame. La\n",
    "función debe permitir construir la matriz de distancia usando las distancias de Manhattan,\n",
    "Euclideana y de Minkowski (para p igual a 3)."
   ]
  },
  {
   "cell_type": "code",
   "execution_count": 26,
   "metadata": {},
   "outputs": [],
   "source": [
    "# Lectura de datos\n",
    "movies = pd.read_csv('movies.csv', sep = ';')"
   ]
  },
  {
   "cell_type": "code",
   "execution_count": 28,
   "metadata": {},
   "outputs": [],
   "source": [
    "movies = movies.set_index('user_id')"
   ]
  },
  {
   "cell_type": "code",
   "execution_count": 29,
   "metadata": {},
   "outputs": [
    {
     "data": {
      "text/html": [
       "<div>\n",
       "<style scoped>\n",
       "    .dataframe tbody tr th:only-of-type {\n",
       "        vertical-align: middle;\n",
       "    }\n",
       "\n",
       "    .dataframe tbody tr th {\n",
       "        vertical-align: top;\n",
       "    }\n",
       "\n",
       "    .dataframe thead th {\n",
       "        text-align: right;\n",
       "    }\n",
       "</style>\n",
       "<table border=\"1\" class=\"dataframe\">\n",
       "  <thead>\n",
       "    <tr style=\"text-align: right;\">\n",
       "      <th></th>\n",
       "      <th>star_wars</th>\n",
       "      <th>lord_of_the_rings</th>\n",
       "      <th>harry_potter</th>\n",
       "    </tr>\n",
       "    <tr>\n",
       "      <th>user_id</th>\n",
       "      <th></th>\n",
       "      <th></th>\n",
       "      <th></th>\n",
       "    </tr>\n",
       "  </thead>\n",
       "  <tbody>\n",
       "    <tr>\n",
       "      <th>1</th>\n",
       "      <td>1.2</td>\n",
       "      <td>4.9</td>\n",
       "      <td>2.1</td>\n",
       "    </tr>\n",
       "    <tr>\n",
       "      <th>2</th>\n",
       "      <td>2.1</td>\n",
       "      <td>8.1</td>\n",
       "      <td>7.9</td>\n",
       "    </tr>\n",
       "    <tr>\n",
       "      <th>3</th>\n",
       "      <td>7.4</td>\n",
       "      <td>3.0</td>\n",
       "      <td>9.9</td>\n",
       "    </tr>\n",
       "    <tr>\n",
       "      <th>4</th>\n",
       "      <td>5.6</td>\n",
       "      <td>0.5</td>\n",
       "      <td>1.8</td>\n",
       "    </tr>\n",
       "    <tr>\n",
       "      <th>5</th>\n",
       "      <td>1.5</td>\n",
       "      <td>8.3</td>\n",
       "      <td>2.6</td>\n",
       "    </tr>\n",
       "    <tr>\n",
       "      <th>6</th>\n",
       "      <td>2.5</td>\n",
       "      <td>3.7</td>\n",
       "      <td>6.5</td>\n",
       "    </tr>\n",
       "    <tr>\n",
       "      <th>7</th>\n",
       "      <td>2.0</td>\n",
       "      <td>8.2</td>\n",
       "      <td>8.5</td>\n",
       "    </tr>\n",
       "    <tr>\n",
       "      <th>8</th>\n",
       "      <td>1.8</td>\n",
       "      <td>9.3</td>\n",
       "      <td>4.5</td>\n",
       "    </tr>\n",
       "    <tr>\n",
       "      <th>9</th>\n",
       "      <td>2.6</td>\n",
       "      <td>1.7</td>\n",
       "      <td>3.1</td>\n",
       "    </tr>\n",
       "    <tr>\n",
       "      <th>10</th>\n",
       "      <td>1.5</td>\n",
       "      <td>4.7</td>\n",
       "      <td>2.3</td>\n",
       "    </tr>\n",
       "  </tbody>\n",
       "</table>\n",
       "</div>"
      ],
      "text/plain": [
       "         star_wars  lord_of_the_rings  harry_potter\n",
       "user_id                                            \n",
       "1              1.2                4.9           2.1\n",
       "2              2.1                8.1           7.9\n",
       "3              7.4                3.0           9.9\n",
       "4              5.6                0.5           1.8\n",
       "5              1.5                8.3           2.6\n",
       "6              2.5                3.7           6.5\n",
       "7              2.0                8.2           8.5\n",
       "8              1.8                9.3           4.5\n",
       "9              2.6                1.7           3.1\n",
       "10             1.5                4.7           2.3"
      ]
     },
     "execution_count": 29,
     "metadata": {},
     "output_type": "execute_result"
    }
   ],
   "source": [
    "movies"
   ]
  },
  {
   "cell_type": "code",
   "execution_count": 30,
   "metadata": {},
   "outputs": [],
   "source": [
    "# Definamos las distancias\n",
    "\n",
    "def distancia_euclideana(x,y):\n",
    "  n = len(x)\n",
    "  suma = 0\n",
    "  for i in range(n):\n",
    "    suma += (y[i]-x[i])**2\n",
    "  return np.sqrt(suma)\n",
    "\n",
    "def distancia_manhattan(x,y):\n",
    "  n = len(x)\n",
    "  suma = 0\n",
    "  for i in range(n):\n",
    "    suma += abs(y[i]-x[i])\n",
    "  return suma\n",
    "\n",
    "def distancia_minkowski(x, y):\n",
    "  n = len(x)\n",
    "  suma = 0\n",
    "  for i in range(n):\n",
    "    suma += abs(y[i]-x[i])**3\n",
    "  return suma**(1/3)"
   ]
  },
  {
   "cell_type": "code",
   "execution_count": 93,
   "metadata": {},
   "outputs": [],
   "source": [
    "def matriz_distancias(df, distancia):\n",
    "    dis = {'euclideana': distancia_euclideana, 'manhattan': distancia_manhattan,\n",
    "            'minkoski': distancia_minkowski}\n",
    "    \n",
    "    df = np.array(df)\n",
    "    matrix = pd.DataFrame()\n",
    "    l = 0\n",
    "    for x in df:\n",
    "        rcol = []\n",
    "        for y in df:\n",
    "            rcol.append(dis[distancia](x, y))\n",
    "        matrix[l] = rcol\n",
    "        l += 1\n",
    "    return matrix"
   ]
  },
  {
   "cell_type": "code",
   "execution_count": 94,
   "metadata": {},
   "outputs": [
    {
     "data": {
      "text/html": [
       "<div>\n",
       "<style scoped>\n",
       "    .dataframe tbody tr th:only-of-type {\n",
       "        vertical-align: middle;\n",
       "    }\n",
       "\n",
       "    .dataframe tbody tr th {\n",
       "        vertical-align: top;\n",
       "    }\n",
       "\n",
       "    .dataframe thead th {\n",
       "        text-align: right;\n",
       "    }\n",
       "</style>\n",
       "<table border=\"1\" class=\"dataframe\">\n",
       "  <thead>\n",
       "    <tr style=\"text-align: right;\">\n",
       "      <th></th>\n",
       "      <th>0</th>\n",
       "      <th>1</th>\n",
       "      <th>2</th>\n",
       "      <th>3</th>\n",
       "      <th>4</th>\n",
       "      <th>5</th>\n",
       "      <th>6</th>\n",
       "      <th>7</th>\n",
       "      <th>8</th>\n",
       "      <th>9</th>\n",
       "    </tr>\n",
       "  </thead>\n",
       "  <tbody>\n",
       "    <tr>\n",
       "      <th>0</th>\n",
       "      <td>0.000000</td>\n",
       "      <td>6.685058</td>\n",
       "      <td>10.143471</td>\n",
       "      <td>6.229767</td>\n",
       "      <td>3.449638</td>\n",
       "      <td>4.742362</td>\n",
       "      <td>7.244998</td>\n",
       "      <td>5.047772</td>\n",
       "      <td>3.633180</td>\n",
       "      <td>0.412311</td>\n",
       "    </tr>\n",
       "    <tr>\n",
       "      <th>1</th>\n",
       "      <td>6.685058</td>\n",
       "      <td>0.000000</td>\n",
       "      <td>7.622336</td>\n",
       "      <td>10.354709</td>\n",
       "      <td>5.337602</td>\n",
       "      <td>4.634652</td>\n",
       "      <td>0.616441</td>\n",
       "      <td>3.618011</td>\n",
       "      <td>8.015610</td>\n",
       "      <td>6.578754</td>\n",
       "    </tr>\n",
       "    <tr>\n",
       "      <th>2</th>\n",
       "      <td>10.143471</td>\n",
       "      <td>7.622336</td>\n",
       "      <td>0.000000</td>\n",
       "      <td>8.666026</td>\n",
       "      <td>10.779147</td>\n",
       "      <td>6.004998</td>\n",
       "      <td>7.626270</td>\n",
       "      <td>10.010494</td>\n",
       "      <td>8.424369</td>\n",
       "      <td>9.770363</td>\n",
       "    </tr>\n",
       "    <tr>\n",
       "      <th>3</th>\n",
       "      <td>6.229767</td>\n",
       "      <td>10.354709</td>\n",
       "      <td>8.666026</td>\n",
       "      <td>0.000000</td>\n",
       "      <td>8.848164</td>\n",
       "      <td>6.476110</td>\n",
       "      <td>10.823123</td>\n",
       "      <td>9.958414</td>\n",
       "      <td>3.482815</td>\n",
       "      <td>5.890671</td>\n",
       "    </tr>\n",
       "    <tr>\n",
       "      <th>4</th>\n",
       "      <td>3.449638</td>\n",
       "      <td>5.337602</td>\n",
       "      <td>10.779147</td>\n",
       "      <td>8.848164</td>\n",
       "      <td>0.000000</td>\n",
       "      <td>6.113101</td>\n",
       "      <td>5.921993</td>\n",
       "      <td>2.167948</td>\n",
       "      <td>6.709694</td>\n",
       "      <td>3.612478</td>\n",
       "    </tr>\n",
       "    <tr>\n",
       "      <th>5</th>\n",
       "      <td>4.742362</td>\n",
       "      <td>4.634652</td>\n",
       "      <td>6.004998</td>\n",
       "      <td>6.476110</td>\n",
       "      <td>6.113101</td>\n",
       "      <td>0.000000</td>\n",
       "      <td>4.949747</td>\n",
       "      <td>5.987487</td>\n",
       "      <td>3.945884</td>\n",
       "      <td>4.431704</td>\n",
       "    </tr>\n",
       "    <tr>\n",
       "      <th>6</th>\n",
       "      <td>7.244998</td>\n",
       "      <td>0.616441</td>\n",
       "      <td>7.626270</td>\n",
       "      <td>10.823123</td>\n",
       "      <td>5.921993</td>\n",
       "      <td>4.949747</td>\n",
       "      <td>0.000000</td>\n",
       "      <td>4.153312</td>\n",
       "      <td>8.471718</td>\n",
       "      <td>7.137226</td>\n",
       "    </tr>\n",
       "    <tr>\n",
       "      <th>7</th>\n",
       "      <td>5.047772</td>\n",
       "      <td>3.618011</td>\n",
       "      <td>10.010494</td>\n",
       "      <td>9.958414</td>\n",
       "      <td>2.167948</td>\n",
       "      <td>5.987487</td>\n",
       "      <td>4.153312</td>\n",
       "      <td>0.000000</td>\n",
       "      <td>7.769170</td>\n",
       "      <td>5.107837</td>\n",
       "    </tr>\n",
       "    <tr>\n",
       "      <th>8</th>\n",
       "      <td>3.633180</td>\n",
       "      <td>8.015610</td>\n",
       "      <td>8.424369</td>\n",
       "      <td>3.482815</td>\n",
       "      <td>6.709694</td>\n",
       "      <td>3.945884</td>\n",
       "      <td>8.471718</td>\n",
       "      <td>7.769170</td>\n",
       "      <td>0.000000</td>\n",
       "      <td>3.293934</td>\n",
       "    </tr>\n",
       "    <tr>\n",
       "      <th>9</th>\n",
       "      <td>0.412311</td>\n",
       "      <td>6.578754</td>\n",
       "      <td>9.770363</td>\n",
       "      <td>5.890671</td>\n",
       "      <td>3.612478</td>\n",
       "      <td>4.431704</td>\n",
       "      <td>7.137226</td>\n",
       "      <td>5.107837</td>\n",
       "      <td>3.293934</td>\n",
       "      <td>0.000000</td>\n",
       "    </tr>\n",
       "  </tbody>\n",
       "</table>\n",
       "</div>"
      ],
      "text/plain": [
       "           0          1          2          3          4         5          6  \\\n",
       "0   0.000000   6.685058  10.143471   6.229767   3.449638  4.742362   7.244998   \n",
       "1   6.685058   0.000000   7.622336  10.354709   5.337602  4.634652   0.616441   \n",
       "2  10.143471   7.622336   0.000000   8.666026  10.779147  6.004998   7.626270   \n",
       "3   6.229767  10.354709   8.666026   0.000000   8.848164  6.476110  10.823123   \n",
       "4   3.449638   5.337602  10.779147   8.848164   0.000000  6.113101   5.921993   \n",
       "5   4.742362   4.634652   6.004998   6.476110   6.113101  0.000000   4.949747   \n",
       "6   7.244998   0.616441   7.626270  10.823123   5.921993  4.949747   0.000000   \n",
       "7   5.047772   3.618011  10.010494   9.958414   2.167948  5.987487   4.153312   \n",
       "8   3.633180   8.015610   8.424369   3.482815   6.709694  3.945884   8.471718   \n",
       "9   0.412311   6.578754   9.770363   5.890671   3.612478  4.431704   7.137226   \n",
       "\n",
       "           7         8         9  \n",
       "0   5.047772  3.633180  0.412311  \n",
       "1   3.618011  8.015610  6.578754  \n",
       "2  10.010494  8.424369  9.770363  \n",
       "3   9.958414  3.482815  5.890671  \n",
       "4   2.167948  6.709694  3.612478  \n",
       "5   5.987487  3.945884  4.431704  \n",
       "6   4.153312  8.471718  7.137226  \n",
       "7   0.000000  7.769170  5.107837  \n",
       "8   7.769170  0.000000  3.293934  \n",
       "9   5.107837  3.293934  0.000000  "
      ]
     },
     "execution_count": 94,
     "metadata": {},
     "output_type": "execute_result"
    }
   ],
   "source": [
    "matriz_distancias(movies, 'euclideana')"
   ]
  },
  {
   "cell_type": "code",
   "execution_count": 95,
   "metadata": {},
   "outputs": [
    {
     "data": {
      "text/html": [
       "<div>\n",
       "<style scoped>\n",
       "    .dataframe tbody tr th:only-of-type {\n",
       "        vertical-align: middle;\n",
       "    }\n",
       "\n",
       "    .dataframe tbody tr th {\n",
       "        vertical-align: top;\n",
       "    }\n",
       "\n",
       "    .dataframe thead th {\n",
       "        text-align: right;\n",
       "    }\n",
       "</style>\n",
       "<table border=\"1\" class=\"dataframe\">\n",
       "  <thead>\n",
       "    <tr style=\"text-align: right;\">\n",
       "      <th></th>\n",
       "      <th>0</th>\n",
       "      <th>1</th>\n",
       "      <th>2</th>\n",
       "      <th>3</th>\n",
       "      <th>4</th>\n",
       "      <th>5</th>\n",
       "      <th>6</th>\n",
       "      <th>7</th>\n",
       "      <th>8</th>\n",
       "      <th>9</th>\n",
       "    </tr>\n",
       "  </thead>\n",
       "  <tbody>\n",
       "    <tr>\n",
       "      <th>0</th>\n",
       "      <td>0.0</td>\n",
       "      <td>9.9</td>\n",
       "      <td>15.9</td>\n",
       "      <td>9.1</td>\n",
       "      <td>4.2</td>\n",
       "      <td>6.9</td>\n",
       "      <td>10.5</td>\n",
       "      <td>7.4</td>\n",
       "      <td>5.6</td>\n",
       "      <td>0.7</td>\n",
       "    </tr>\n",
       "    <tr>\n",
       "      <th>1</th>\n",
       "      <td>9.9</td>\n",
       "      <td>0.0</td>\n",
       "      <td>12.4</td>\n",
       "      <td>17.2</td>\n",
       "      <td>6.1</td>\n",
       "      <td>6.2</td>\n",
       "      <td>0.8</td>\n",
       "      <td>4.9</td>\n",
       "      <td>11.7</td>\n",
       "      <td>9.6</td>\n",
       "    </tr>\n",
       "    <tr>\n",
       "      <th>2</th>\n",
       "      <td>15.9</td>\n",
       "      <td>12.4</td>\n",
       "      <td>0.0</td>\n",
       "      <td>12.4</td>\n",
       "      <td>18.5</td>\n",
       "      <td>9.0</td>\n",
       "      <td>12.0</td>\n",
       "      <td>17.3</td>\n",
       "      <td>12.9</td>\n",
       "      <td>15.2</td>\n",
       "    </tr>\n",
       "    <tr>\n",
       "      <th>3</th>\n",
       "      <td>9.1</td>\n",
       "      <td>17.2</td>\n",
       "      <td>12.4</td>\n",
       "      <td>0.0</td>\n",
       "      <td>12.7</td>\n",
       "      <td>11.0</td>\n",
       "      <td>18.0</td>\n",
       "      <td>15.3</td>\n",
       "      <td>5.5</td>\n",
       "      <td>8.8</td>\n",
       "    </tr>\n",
       "    <tr>\n",
       "      <th>4</th>\n",
       "      <td>4.2</td>\n",
       "      <td>6.1</td>\n",
       "      <td>18.5</td>\n",
       "      <td>12.7</td>\n",
       "      <td>0.0</td>\n",
       "      <td>9.5</td>\n",
       "      <td>6.5</td>\n",
       "      <td>3.2</td>\n",
       "      <td>8.2</td>\n",
       "      <td>3.9</td>\n",
       "    </tr>\n",
       "    <tr>\n",
       "      <th>5</th>\n",
       "      <td>6.9</td>\n",
       "      <td>6.2</td>\n",
       "      <td>9.0</td>\n",
       "      <td>11.0</td>\n",
       "      <td>9.5</td>\n",
       "      <td>0.0</td>\n",
       "      <td>7.0</td>\n",
       "      <td>8.3</td>\n",
       "      <td>5.5</td>\n",
       "      <td>6.2</td>\n",
       "    </tr>\n",
       "    <tr>\n",
       "      <th>6</th>\n",
       "      <td>10.5</td>\n",
       "      <td>0.8</td>\n",
       "      <td>12.0</td>\n",
       "      <td>18.0</td>\n",
       "      <td>6.5</td>\n",
       "      <td>7.0</td>\n",
       "      <td>0.0</td>\n",
       "      <td>5.3</td>\n",
       "      <td>12.5</td>\n",
       "      <td>10.2</td>\n",
       "    </tr>\n",
       "    <tr>\n",
       "      <th>7</th>\n",
       "      <td>7.4</td>\n",
       "      <td>4.9</td>\n",
       "      <td>17.3</td>\n",
       "      <td>15.3</td>\n",
       "      <td>3.2</td>\n",
       "      <td>8.3</td>\n",
       "      <td>5.3</td>\n",
       "      <td>0.0</td>\n",
       "      <td>9.8</td>\n",
       "      <td>7.1</td>\n",
       "    </tr>\n",
       "    <tr>\n",
       "      <th>8</th>\n",
       "      <td>5.6</td>\n",
       "      <td>11.7</td>\n",
       "      <td>12.9</td>\n",
       "      <td>5.5</td>\n",
       "      <td>8.2</td>\n",
       "      <td>5.5</td>\n",
       "      <td>12.5</td>\n",
       "      <td>9.8</td>\n",
       "      <td>0.0</td>\n",
       "      <td>4.9</td>\n",
       "    </tr>\n",
       "    <tr>\n",
       "      <th>9</th>\n",
       "      <td>0.7</td>\n",
       "      <td>9.6</td>\n",
       "      <td>15.2</td>\n",
       "      <td>8.8</td>\n",
       "      <td>3.9</td>\n",
       "      <td>6.2</td>\n",
       "      <td>10.2</td>\n",
       "      <td>7.1</td>\n",
       "      <td>4.9</td>\n",
       "      <td>0.0</td>\n",
       "    </tr>\n",
       "  </tbody>\n",
       "</table>\n",
       "</div>"
      ],
      "text/plain": [
       "      0     1     2     3     4     5     6     7     8     9\n",
       "0   0.0   9.9  15.9   9.1   4.2   6.9  10.5   7.4   5.6   0.7\n",
       "1   9.9   0.0  12.4  17.2   6.1   6.2   0.8   4.9  11.7   9.6\n",
       "2  15.9  12.4   0.0  12.4  18.5   9.0  12.0  17.3  12.9  15.2\n",
       "3   9.1  17.2  12.4   0.0  12.7  11.0  18.0  15.3   5.5   8.8\n",
       "4   4.2   6.1  18.5  12.7   0.0   9.5   6.5   3.2   8.2   3.9\n",
       "5   6.9   6.2   9.0  11.0   9.5   0.0   7.0   8.3   5.5   6.2\n",
       "6  10.5   0.8  12.0  18.0   6.5   7.0   0.0   5.3  12.5  10.2\n",
       "7   7.4   4.9  17.3  15.3   3.2   8.3   5.3   0.0   9.8   7.1\n",
       "8   5.6  11.7  12.9   5.5   8.2   5.5  12.5   9.8   0.0   4.9\n",
       "9   0.7   9.6  15.2   8.8   3.9   6.2  10.2   7.1   4.9   0.0"
      ]
     },
     "execution_count": 95,
     "metadata": {},
     "output_type": "execute_result"
    }
   ],
   "source": [
    "matriz_distancias(movies, 'manhattan')"
   ]
  },
  {
   "cell_type": "code",
   "execution_count": 96,
   "metadata": {},
   "outputs": [
    {
     "data": {
      "text/html": [
       "<div>\n",
       "<style scoped>\n",
       "    .dataframe tbody tr th:only-of-type {\n",
       "        vertical-align: middle;\n",
       "    }\n",
       "\n",
       "    .dataframe tbody tr th {\n",
       "        vertical-align: top;\n",
       "    }\n",
       "\n",
       "    .dataframe thead th {\n",
       "        text-align: right;\n",
       "    }\n",
       "</style>\n",
       "<table border=\"1\" class=\"dataframe\">\n",
       "  <thead>\n",
       "    <tr style=\"text-align: right;\">\n",
       "      <th></th>\n",
       "      <th>0</th>\n",
       "      <th>1</th>\n",
       "      <th>2</th>\n",
       "      <th>3</th>\n",
       "      <th>4</th>\n",
       "      <th>5</th>\n",
       "      <th>6</th>\n",
       "      <th>7</th>\n",
       "      <th>8</th>\n",
       "      <th>9</th>\n",
       "    </tr>\n",
       "  </thead>\n",
       "  <tbody>\n",
       "    <tr>\n",
       "      <th>0</th>\n",
       "      <td>0.000000</td>\n",
       "      <td>6.114549</td>\n",
       "      <td>8.961726</td>\n",
       "      <td>5.543945</td>\n",
       "      <td>3.404377</td>\n",
       "      <td>4.466567</td>\n",
       "      <td>6.683848</td>\n",
       "      <td>4.629551</td>\n",
       "      <td>3.317507</td>\n",
       "      <td>0.350340</td>\n",
       "    </tr>\n",
       "    <tr>\n",
       "      <th>1</th>\n",
       "      <td>6.114549</td>\n",
       "      <td>0.000000</td>\n",
       "      <td>6.615513</td>\n",
       "      <td>8.916227</td>\n",
       "      <td>5.302657</td>\n",
       "      <td>4.447825</td>\n",
       "      <td>0.601846</td>\n",
       "      <td>3.449870</td>\n",
       "      <td>7.197511</td>\n",
       "      <td>5.991989</td>\n",
       "    </tr>\n",
       "    <tr>\n",
       "      <th>2</th>\n",
       "      <td>8.961726</td>\n",
       "      <td>6.615513</td>\n",
       "      <td>0.000000</td>\n",
       "      <td>8.207578</td>\n",
       "      <td>9.058357</td>\n",
       "      <td>5.398079</td>\n",
       "      <td>6.700394</td>\n",
       "      <td>8.354511</td>\n",
       "      <td>7.531547</td>\n",
       "      <td>8.659138</td>\n",
       "    </tr>\n",
       "    <tr>\n",
       "      <th>3</th>\n",
       "      <td>5.543945</td>\n",
       "      <td>8.916227</td>\n",
       "      <td>8.207578</td>\n",
       "      <td>0.000000</td>\n",
       "      <td>8.163235</td>\n",
       "      <td>5.500077</td>\n",
       "      <td>9.298439</td>\n",
       "      <td>9.109875</td>\n",
       "      <td>3.138845</td>\n",
       "      <td>5.230954</td>\n",
       "    </tr>\n",
       "    <tr>\n",
       "      <th>4</th>\n",
       "      <td>3.404377</td>\n",
       "      <td>5.302657</td>\n",
       "      <td>9.058357</td>\n",
       "      <td>8.163235</td>\n",
       "      <td>0.000000</td>\n",
       "      <td>5.402182</td>\n",
       "      <td>5.901206</td>\n",
       "      <td>1.990455</td>\n",
       "      <td>6.611123</td>\n",
       "      <td>3.600694</td>\n",
       "    </tr>\n",
       "    <tr>\n",
       "      <th>5</th>\n",
       "      <td>4.466567</td>\n",
       "      <td>4.447825</td>\n",
       "      <td>5.398079</td>\n",
       "      <td>5.500077</td>\n",
       "      <td>5.402182</td>\n",
       "      <td>0.000000</td>\n",
       "      <td>4.629956</td>\n",
       "      <td>5.687311</td>\n",
       "      <td>3.616616</td>\n",
       "      <td>4.237458</td>\n",
       "    </tr>\n",
       "    <tr>\n",
       "      <th>6</th>\n",
       "      <td>6.683848</td>\n",
       "      <td>0.601846</td>\n",
       "      <td>6.700394</td>\n",
       "      <td>9.298439</td>\n",
       "      <td>5.901206</td>\n",
       "      <td>4.629956</td>\n",
       "      <td>0.000000</td>\n",
       "      <td>4.027704</td>\n",
       "      <td>7.561305</td>\n",
       "      <td>6.552459</td>\n",
       "    </tr>\n",
       "    <tr>\n",
       "      <th>7</th>\n",
       "      <td>4.629551</td>\n",
       "      <td>3.449870</td>\n",
       "      <td>8.354511</td>\n",
       "      <td>9.109875</td>\n",
       "      <td>1.990455</td>\n",
       "      <td>5.687311</td>\n",
       "      <td>4.027704</td>\n",
       "      <td>0.000000</td>\n",
       "      <td>7.618744</td>\n",
       "      <td>4.762365</td>\n",
       "    </tr>\n",
       "    <tr>\n",
       "      <th>8</th>\n",
       "      <td>3.317507</td>\n",
       "      <td>7.197511</td>\n",
       "      <td>7.531547</td>\n",
       "      <td>3.138845</td>\n",
       "      <td>6.611123</td>\n",
       "      <td>3.616616</td>\n",
       "      <td>7.561305</td>\n",
       "      <td>7.618744</td>\n",
       "      <td>0.000000</td>\n",
       "      <td>3.066762</td>\n",
       "    </tr>\n",
       "    <tr>\n",
       "      <th>9</th>\n",
       "      <td>0.350340</td>\n",
       "      <td>5.991989</td>\n",
       "      <td>8.659138</td>\n",
       "      <td>5.230954</td>\n",
       "      <td>3.600694</td>\n",
       "      <td>4.237458</td>\n",
       "      <td>6.552459</td>\n",
       "      <td>4.762365</td>\n",
       "      <td>3.066762</td>\n",
       "      <td>0.000000</td>\n",
       "    </tr>\n",
       "  </tbody>\n",
       "</table>\n",
       "</div>"
      ],
      "text/plain": [
       "          0         1         2         3         4         5         6  \\\n",
       "0  0.000000  6.114549  8.961726  5.543945  3.404377  4.466567  6.683848   \n",
       "1  6.114549  0.000000  6.615513  8.916227  5.302657  4.447825  0.601846   \n",
       "2  8.961726  6.615513  0.000000  8.207578  9.058357  5.398079  6.700394   \n",
       "3  5.543945  8.916227  8.207578  0.000000  8.163235  5.500077  9.298439   \n",
       "4  3.404377  5.302657  9.058357  8.163235  0.000000  5.402182  5.901206   \n",
       "5  4.466567  4.447825  5.398079  5.500077  5.402182  0.000000  4.629956   \n",
       "6  6.683848  0.601846  6.700394  9.298439  5.901206  4.629956  0.000000   \n",
       "7  4.629551  3.449870  8.354511  9.109875  1.990455  5.687311  4.027704   \n",
       "8  3.317507  7.197511  7.531547  3.138845  6.611123  3.616616  7.561305   \n",
       "9  0.350340  5.991989  8.659138  5.230954  3.600694  4.237458  6.552459   \n",
       "\n",
       "          7         8         9  \n",
       "0  4.629551  3.317507  0.350340  \n",
       "1  3.449870  7.197511  5.991989  \n",
       "2  8.354511  7.531547  8.659138  \n",
       "3  9.109875  3.138845  5.230954  \n",
       "4  1.990455  6.611123  3.600694  \n",
       "5  5.687311  3.616616  4.237458  \n",
       "6  4.027704  7.561305  6.552459  \n",
       "7  0.000000  7.618744  4.762365  \n",
       "8  7.618744  0.000000  3.066762  \n",
       "9  4.762365  3.066762  0.000000  "
      ]
     },
     "execution_count": 96,
     "metadata": {},
     "output_type": "execute_result"
    }
   ],
   "source": [
    "matriz_distancias(movies, 'minkoski')"
   ]
  },
  {
   "cell_type": "code",
   "execution_count": 54,
   "metadata": {},
   "outputs": [
    {
     "data": {
      "text/plain": [
       "<AxesSubplot:>"
      ]
     },
     "execution_count": 54,
     "metadata": {},
     "output_type": "execute_result"
    },
    {
     "data": {
      "image/png": "[encoded data removed]",
      "text/plain": [
       "<Figure size 432x288 with 2 Axes>"
      ]
     },
     "metadata": {
      "needs_background": "light"
     },
     "output_type": "display_data"
    }
   ],
   "source": [
    "import seaborn as sns\n",
    "\n",
    "sns.heatmap(matriz_distancias(movies, 'euclideana'))"
   ]
  },
  {
   "cell_type": "code",
   "execution_count": 55,
   "metadata": {},
   "outputs": [
    {
     "data": {
      "text/plain": [
       "<AxesSubplot:>"
      ]
     },
     "execution_count": 55,
     "metadata": {},
     "output_type": "execute_result"
    },
    {
     "data": {
      "image/png": "[encoded data removed]",
      "text/plain": [
       "<Figure size 432x288 with 2 Axes>"
      ]
     },
     "metadata": {
      "needs_background": "light"
     },
     "output_type": "display_data"
    }
   ],
   "source": [
    "sns.heatmap(matriz_distancias(movies, 'manhattan'))"
   ]
  },
  {
   "cell_type": "code",
   "execution_count": 56,
   "metadata": {},
   "outputs": [
    {
     "data": {
      "text/plain": [
       "<AxesSubplot:>"
      ]
     },
     "execution_count": 56,
     "metadata": {},
     "output_type": "execute_result"
    },
    {
     "data": {
      "image/png": "[encoded data removed]",
      "text/plain": [
       "<Figure size 432x288 with 2 Axes>"
      ]
     },
     "metadata": {
      "needs_background": "light"
     },
     "output_type": "display_data"
    }
   ],
   "source": [
    "sns.heatmap(matriz_distancias(movies, 'minkoski'))"
   ]
  },
  {
   "cell_type": "markdown",
   "metadata": {},
   "source": [
    "Compare sus resultados con los que se obtienen por medio del método distance_matrix\n",
    "de scipy.spatial."
   ]
  },
  {
   "cell_type": "code",
   "execution_count": 58,
   "metadata": {},
   "outputs": [
    {
     "data": {
      "text/plain": [
       "array([[ 0.        ,  6.68505797, 10.14347081,  6.22976725,  3.44963766,\n",
       "         4.74236228,  7.24499827,  5.04777179,  3.63318042,  0.41231056],\n",
       "       [ 6.68505797,  0.        ,  7.6223356 , 10.35470907,  5.33760246,\n",
       "         4.63465209,  0.6164414 ,  3.6180105 ,  8.01560977,  6.57875368],\n",
       "       [10.14347081,  7.6223356 ,  0.        ,  8.66602562, 10.77914653,\n",
       "         6.00499792,  7.62627039, 10.01049449,  8.42436941,  9.77036335],\n",
       "       [ 6.22976725, 10.35470907,  8.66602562,  0.        ,  8.84816365,\n",
       "         6.47610994, 10.82312339,  9.95841353,  3.48281495,  5.89067059],\n",
       "       [ 3.44963766,  5.33760246, 10.77914653,  8.84816365,  0.        ,\n",
       "         6.11310069,  5.92199291,  2.16794834,  6.70969448,  3.61247837],\n",
       "       [ 4.74236228,  4.63465209,  6.00499792,  6.47610994,  6.11310069,\n",
       "         0.        ,  4.94974747,  5.98748695,  3.94588393,  4.43170396],\n",
       "       [ 7.24499827,  0.6164414 ,  7.62627039, 10.82312339,  5.92199291,\n",
       "         4.94974747,  0.        ,  4.15331193,  8.47171765,  7.13722635],\n",
       "       [ 5.04777179,  3.6180105 , 10.01049449,  9.95841353,  2.16794834,\n",
       "         5.98748695,  4.15331193,  0.        ,  7.76916984,  5.10783712],\n",
       "       [ 3.63318042,  8.01560977,  8.42436941,  3.48281495,  6.70969448,\n",
       "         3.94588393,  8.47171765,  7.76916984,  0.        ,  3.29393382],\n",
       "       [ 0.41231056,  6.57875368,  9.77036335,  5.89067059,  3.61247837,\n",
       "         4.43170396,  7.13722635,  5.10783712,  3.29393382,  0.        ]])"
      ]
     },
     "execution_count": 58,
     "metadata": {},
     "output_type": "execute_result"
    }
   ],
   "source": [
    "# Euclidea\n",
    "from scipy.spatial import distance_matrix\n",
    "distance_matrix(np.array(movies), np.array(movies))"
   ]
  },
  {
   "cell_type": "code",
   "execution_count": 98,
   "metadata": {},
   "outputs": [
    {
     "data": {
      "text/plain": [
       "array([[ 0. ,  9.9, 15.9,  9.1,  4.2,  6.9, 10.5,  7.4,  5.6,  0.7],\n",
       "       [ 9.9,  0. , 12.4, 17.2,  6.1,  6.2,  0.8,  4.9, 11.7,  9.6],\n",
       "       [15.9, 12.4,  0. , 12.4, 18.5,  9. , 12. , 17.3, 12.9, 15.2],\n",
       "       [ 9.1, 17.2, 12.4,  0. , 12.7, 11. , 18. , 15.3,  5.5,  8.8],\n",
       "       [ 4.2,  6.1, 18.5, 12.7,  0. ,  9.5,  6.5,  3.2,  8.2,  3.9],\n",
       "       [ 6.9,  6.2,  9. , 11. ,  9.5,  0. ,  7. ,  8.3,  5.5,  6.2],\n",
       "       [10.5,  0.8, 12. , 18. ,  6.5,  7. ,  0. ,  5.3, 12.5, 10.2],\n",
       "       [ 7.4,  4.9, 17.3, 15.3,  3.2,  8.3,  5.3,  0. ,  9.8,  7.1],\n",
       "       [ 5.6, 11.7, 12.9,  5.5,  8.2,  5.5, 12.5,  9.8,  0. ,  4.9],\n",
       "       [ 0.7,  9.6, 15.2,  8.8,  3.9,  6.2, 10.2,  7.1,  4.9,  0. ]])"
      ]
     },
     "execution_count": 98,
     "metadata": {},
     "output_type": "execute_result"
    }
   ],
   "source": [
    "# Manhattan\n",
    "distance_matrix(np.array(movies), np.array(movies), p = 1)"
   ]
  },
  {
   "cell_type": "code",
   "execution_count": 97,
   "metadata": {},
   "outputs": [
    {
     "data": {
      "text/plain": [
       "array([[0.        , 6.11454916, 8.96172636, 5.54394546, 3.40437729,\n",
       "        4.46656704, 6.68384763, 4.6295514 , 3.3175072 , 0.35033981],\n",
       "       [6.11454916, 0.        , 6.61551294, 8.91622676, 5.30265679,\n",
       "        4.44782539, 0.60184617, 3.44987047, 7.19751071, 5.99198931],\n",
       "       [8.96172636, 6.61551294, 0.        , 8.20757777, 9.05835741,\n",
       "        5.39807888, 6.70039353, 8.35451129, 7.53154712, 8.6591381 ],\n",
       "       [5.54394546, 8.91622676, 8.20757777, 0.        , 8.16323517,\n",
       "        5.50007713, 9.29843886, 9.10987536, 3.13884524, 5.23095442],\n",
       "       [3.40437729, 5.30265679, 9.05835741, 8.16323517, 0.        ,\n",
       "        5.40218247, 5.9012063 , 1.99045451, 6.61112296, 3.60069431],\n",
       "       [4.46656704, 4.44782539, 5.39807888, 5.50007713, 5.40218247,\n",
       "        0.        , 4.62995573, 5.68731147, 3.61661558, 4.23745783],\n",
       "       [6.68384763, 0.60184617, 6.70039353, 9.29843886, 5.9012063 ,\n",
       "        4.62995573, 0.        , 4.02770352, 7.56130494, 6.55245911],\n",
       "       [4.6295514 , 3.44987047, 8.35451129, 9.10987536, 1.99045451,\n",
       "        5.68731147, 4.02770352, 0.        , 7.61874413, 4.76236483],\n",
       "       [3.3175072 , 7.19751071, 7.53154712, 3.13884524, 6.61112296,\n",
       "        3.61661558, 7.56130494, 7.61874413, 0.        , 3.06676249],\n",
       "       [0.35033981, 5.99198931, 8.6591381 , 5.23095442, 3.60069431,\n",
       "        4.23745783, 6.55245911, 4.76236483, 3.06676249, 0.        ]])"
      ]
     },
     "execution_count": 97,
     "metadata": {},
     "output_type": "execute_result"
    }
   ],
   "source": [
    "# Minkoswki\n",
    "distance_matrix(np.array(movies), np.array(movies), p = 3)"
   ]
  },
  {
   "cell_type": "markdown",
   "metadata": {},
   "source": [
    "Además, Usando los métodos “dendrogram” y “linkage” construya un diagrama en forma\n",
    "de árbol (dendrograma) para el conjunto de datos en “movies.csv”. Repita el proceso ahora\n",
    "usando algún esquema de normalización del rango de los datos."
   ]
  },
  {
   "cell_type": "code",
   "execution_count": 66,
   "metadata": {},
   "outputs": [
    {
     "data": {
      "image/png": "[encoded data removed]",
      "text/plain": [
       "<Figure size 432x288 with 1 Axes>"
      ]
     },
     "metadata": {
      "needs_background": "light"
     },
     "output_type": "display_data"
    }
   ],
   "source": [
    "from scipy.cluster.hierarchy import dendrogram, linkage\n",
    "from matplotlib import pyplot as plt\n",
    "\n",
    "Z = linkage(np.array(movies), 'ward')\n",
    "dn = dendrogram(Z)\n"
   ]
  },
  {
   "cell_type": "code",
   "execution_count": 67,
   "metadata": {},
   "outputs": [
    {
     "data": {
      "image/png": "[encoded data removed]",
      "text/plain": [
       "<Figure size 432x288 with 1 Axes>"
      ]
     },
     "metadata": {
      "needs_background": "light"
     },
     "output_type": "display_data"
    }
   ],
   "source": [
    "Z = linkage(np.array(movies), 'single')\n",
    "dn = dendrogram(Z)"
   ]
  },
  {
   "cell_type": "markdown",
   "metadata": {},
   "source": [
    "### Normalizado"
   ]
  },
  {
   "cell_type": "code",
   "execution_count": 68,
   "metadata": {},
   "outputs": [],
   "source": [
    "# Con la media\n",
    "\n",
    "def mean_norm(df_input):\n",
    "    return df_input.apply(lambda x: (x-x.mean())/ x.std(), axis=0)"
   ]
  },
  {
   "cell_type": "code",
   "execution_count": 69,
   "metadata": {},
   "outputs": [],
   "source": [
    "movies_n = mean_norm(movies)"
   ]
  },
  {
   "cell_type": "code",
   "execution_count": 71,
   "metadata": {},
   "outputs": [
    {
     "data": {
      "text/plain": [
       "<AxesSubplot:>"
      ]
     },
     "execution_count": 71,
     "metadata": {},
     "output_type": "execute_result"
    },
    {
     "data": {
      "image/png": "[encoded data removed]",
      "text/plain": [
       "<Figure size 432x288 with 2 Axes>"
      ]
     },
     "metadata": {
      "needs_background": "light"
     },
     "output_type": "display_data"
    }
   ],
   "source": [
    "sns.heatmap(matriz_distancias(movies_n, 'euclideana'))"
   ]
  },
  {
   "cell_type": "code",
   "execution_count": 72,
   "metadata": {},
   "outputs": [
    {
     "data": {
      "text/plain": [
       "<AxesSubplot:>"
      ]
     },
     "execution_count": 72,
     "metadata": {},
     "output_type": "execute_result"
    },
    {
     "data": {
      "image/png": "[encoded data removed]",
      "text/plain": [
       "<Figure size 432x288 with 2 Axes>"
      ]
     },
     "metadata": {
      "needs_background": "light"
     },
     "output_type": "display_data"
    }
   ],
   "source": [
    "sns.heatmap(matriz_distancias(movies_n, 'manhattan'))"
   ]
  },
  {
   "cell_type": "code",
   "execution_count": 73,
   "metadata": {},
   "outputs": [
    {
     "data": {
      "text/plain": [
       "<AxesSubplot:>"
      ]
     },
     "execution_count": 73,
     "metadata": {},
     "output_type": "execute_result"
    },
    {
     "data": {
      "image/png": "[encoded data removed]",
      "text/plain": [
       "<Figure size 432x288 with 2 Axes>"
      ]
     },
     "metadata": {
      "needs_background": "light"
     },
     "output_type": "display_data"
    }
   ],
   "source": [
    "sns.heatmap(matriz_distancias(movies_n, 'minkoski'))"
   ]
  },
  {
   "cell_type": "code",
   "execution_count": 74,
   "metadata": {},
   "outputs": [
    {
     "data": {
      "image/png": "[encoded data removed]",
      "text/plain": [
       "<Figure size 432x288 with 1 Axes>"
      ]
     },
     "metadata": {
      "needs_background": "light"
     },
     "output_type": "display_data"
    }
   ],
   "source": [
    "Z = linkage(np.array(movies_n), 'ward')\n",
    "dn = dendrogram(Z)"
   ]
  },
  {
   "cell_type": "code",
   "execution_count": 75,
   "metadata": {},
   "outputs": [
    {
     "data": {
      "image/png": "[encoded data removed]",
      "text/plain": [
       "<Figure size 432x288 with 1 Axes>"
      ]
     },
     "metadata": {
      "needs_background": "light"
     },
     "output_type": "display_data"
    }
   ],
   "source": [
    "Z = linkage(np.array(movies_n), 'single')\n",
    "dn = dendrogram(Z)"
   ]
  },
  {
   "cell_type": "code",
   "execution_count": null,
   "metadata": {},
   "outputs": [],
   "source": []
  }
 ],
 "metadata": {
  "interpreter": {
   "hash": "dace54320b3e5d10a320680296c22e4020a583bcc2297e7e554010d74f6aaf0c"
  },
  "kernelspec": {
   "display_name": "Python 3.9.2 64-bit ('3.9.2')",
   "language": "python",
   "name": "python3"
  },
  "language_info": {
   "codemirror_mode": {
    "name": "ipython",
    "version": 3
   },
   "file_extension": ".py",
   "mimetype": "text/x-python",
   "name": "python",
   "nbconvert_exporter": "python",
   "pygments_lexer": "ipython3",
   "version": "3.9.10"
  },
  "orig_nbformat": 4
 },
 "nbformat": 4,
 "nbformat_minor": 2
}
