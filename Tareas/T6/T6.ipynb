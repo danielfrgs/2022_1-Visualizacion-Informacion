{
 "cells": [
  {
   "cell_type": "markdown",
   "metadata": {},
   "source": [
    "# Tarea 6: Paletas de Colores\n",
    "\n",
    "Fragoso Alvarado Daniel | 316049054\n",
    "\n",
    "---\n",
    "\n",
    "Viz Palette es una herramienta para ayudar a los diseñadores de visualización de datos a evaluar y\n",
    "mejorar sus paletas. Muestra la paleta en uso en una variedad de tipos de visualización de datos, pero\n",
    "también mide los colores individuales mediante técnicas que intentan identificar cuándo los colores\n",
    "son demasiado similares entre sí visualmente, pero también cuándo los nombres de los colores son\n",
    "demasiado parecidos. Ampliando este enfoque, Viz Palette no solo muestra líneas y áreas, muestra\n",
    "diferentes variaciones de estas primitivas gráficas que aparecen en gráficos comunes. Toda la\n",
    "visualización de datos se realiza con líneas y áreas rellenas, pero en la práctica las formas creadas se\n",
    "ven afectadas por la posición, los bordes compartidos y otros atributos."
   ]
  },
  {
   "cell_type": "markdown",
   "metadata": {},
   "source": [
    "### ACTIVIDAD 1:\n",
    "\n",
    "Generar dos paletas de color que resalten mejor los datos.\n",
    "\n",
    "Vamos a considerar que vamos a generar gráficas sobre un tema blanco. Es decir que los colores elegido deben de lograr ser bien diferenciables sobre blanco. Ademas, vamos a considerar que los colores obscuros resaltan más, y deben de ser suficientemente separados para que puedan ser diferenciables a simple vista, pero no los uficiente para sesgar la interpretación. Así que vamos a usar **ADOBE COLOR** para generar un conjunto de colores análogos, es deciir que todos tegan la misma saturación, y luminocidad, y ademas las distancias entre ellos no seas radicalmente opuestas, lo que le va a dar armonia a las diferentes paletas.\n",
    "\n",
    "\n",
    "Vamos a elegir aleatoriamnete los colores inciales, con base en azul por ser mi color favorito, e iremos modificando sobre estos:"
   ]
  },
  {
   "cell_type": "markdown",
   "metadata": {},
   "source": [
    "![SNOWFALL](images/C_0.png)"
   ]
  },
  {
   "cell_type": "markdown",
   "metadata": {},
   "source": [
    "![SNOWFALL](images/P_0.png)"
   ]
  },
  {
   "cell_type": "markdown",
   "metadata": {},
   "source": [
    "Para ver que tanta interferecia presentaría alguien con daltonismo vamos a usar la herramienta **Color Blindness Simulador**, que permite simular como ve alguien con este padecimiento.\n",
    "\n",
    "Debido a afecciones de color como el Daltonismo, los colores B, C, y D pueden tener interferencias"
   ]
  },
  {
   "cell_type": "markdown",
   "metadata": {},
   "source": [
    "![SNOWFALL](images/pilestone.jpg)\n",
    "\n",
    "![SNOWFALL](images/pilestone-2.jpg)\n",
    "\n",
    "![SNOWFALL](images/pilestone-3.jpg)"
   ]
  },
  {
   "cell_type": "markdown",
   "metadata": {},
   "source": [
    "**Adobe Color** presenta una herramienta que puede visualizar las diferentes interferencias con el daltonismo así que la usaremos en principio para generar las modificaciones pertinenetes."
   ]
  },
  {
   "cell_type": "markdown",
   "metadata": {},
   "source": [
    "![SNOWFALL](images/C_1.png)\n",
    "\n",
    "![SNOWFALL](images/P_1.png)\n"
   ]
  },
  {
   "cell_type": "markdown",
   "metadata": {},
   "source": [
    "Vamos a generar una modificación extra, debido a que entre el color C y D hay un  conflicto de reconocimiento para las gráficas de scatter. Solo vamos a modificar ligeramente la luminocidad para no perder la ármonia de la paleta. Adicionalemnte vamos a mover el color B para que su nombramiento no sea igual al C."
   ]
  },
  {
   "cell_type": "markdown",
   "metadata": {},
   "source": [
    "Finalemente el resultado de la primera paleta es:"
   ]
  },
  {
   "cell_type": "markdown",
   "metadata": {},
   "source": [
    "![SNOWFALL](images/P_1_C.png)"
   ]
  },
  {
   "cell_type": "markdown",
   "metadata": {},
   "source": [
    "![SNOWFALL](images/P1_D.png)"
   ]
  },
  {
   "cell_type": "markdown",
   "metadata": {},
   "source": [
    "Vamos a repetir el proceso para una segunda paleta, esta vez usando una distribución denomindada *cuadrado* que usa 4 tonos opuestos entre sí:"
   ]
  },
  {
   "cell_type": "markdown",
   "metadata": {},
   "source": [
    "![SNOWFALL](images/C02.png)\n",
    "\n",
    "![SNOWFALL](images/P02.png)"
   ]
  },
  {
   "cell_type": "markdown",
   "metadata": {},
   "source": [
    "Haciendo las modificaciones  de color con el fin de ser legible para personas con daltonismo, y en general con el contraste de  las gráficas, tenemos:"
   ]
  },
  {
   "cell_type": "markdown",
   "metadata": {},
   "source": [
    "![SNOWFALL](images/C2.png)\n",
    "\n",
    "![SNOWFALL](images/P2.png)"
   ]
  },
  {
   "cell_type": "markdown",
   "metadata": {},
   "source": [
    "![SNOWFALL](images/P2_D.png)"
   ]
  },
  {
   "cell_type": "markdown",
   "metadata": {},
   "source": [
    "### ACTIVIDAD 2\n",
    "\n",
    "Utilice el dataset mpg_cars.csv que proporciona datos de economía de combustible de 1999 a 2008\n",
    "para modelos populares de automóviles, recopilados por la Agencia de Protección Ambiental de\n",
    "EE.UU. https://fueleconomy.gov/"
   ]
  },
  {
   "cell_type": "code",
   "execution_count": 3,
   "metadata": {},
   "outputs": [],
   "source": [
    "import pandas as pd\n",
    "\n",
    "# Vammos a importar los datos.\n",
    "\n",
    "cars = pd.read_csv('mpg_cars.csv')"
   ]
  },
  {
   "cell_type": "code",
   "execution_count": 2,
   "metadata": {},
   "outputs": [
    {
     "data": {
      "text/html": [
       "<div>\n",
       "<style scoped>\n",
       "    .dataframe tbody tr th:only-of-type {\n",
       "        vertical-align: middle;\n",
       "    }\n",
       "\n",
       "    .dataframe tbody tr th {\n",
       "        vertical-align: top;\n",
       "    }\n",
       "\n",
       "    .dataframe thead th {\n",
       "        text-align: right;\n",
       "    }\n",
       "</style>\n",
       "<table border=\"1\" class=\"dataframe\">\n",
       "  <thead>\n",
       "    <tr style=\"text-align: right;\">\n",
       "      <th></th>\n",
       "      <th>manufacturer</th>\n",
       "      <th>model</th>\n",
       "      <th>displ</th>\n",
       "      <th>year</th>\n",
       "      <th>cyl</th>\n",
       "      <th>trans</th>\n",
       "      <th>drv</th>\n",
       "      <th>cty</th>\n",
       "      <th>hwy</th>\n",
       "      <th>fl</th>\n",
       "      <th>class</th>\n",
       "    </tr>\n",
       "  </thead>\n",
       "  <tbody>\n",
       "    <tr>\n",
       "      <th>0</th>\n",
       "      <td>audi</td>\n",
       "      <td>a4</td>\n",
       "      <td>1.8</td>\n",
       "      <td>1999</td>\n",
       "      <td>4</td>\n",
       "      <td>auto(l5)</td>\n",
       "      <td>f</td>\n",
       "      <td>18</td>\n",
       "      <td>29</td>\n",
       "      <td>p</td>\n",
       "      <td>compact</td>\n",
       "    </tr>\n",
       "    <tr>\n",
       "      <th>1</th>\n",
       "      <td>audi</td>\n",
       "      <td>a4</td>\n",
       "      <td>1.8</td>\n",
       "      <td>1999</td>\n",
       "      <td>4</td>\n",
       "      <td>manual(m5)</td>\n",
       "      <td>f</td>\n",
       "      <td>21</td>\n",
       "      <td>29</td>\n",
       "      <td>p</td>\n",
       "      <td>compact</td>\n",
       "    </tr>\n",
       "    <tr>\n",
       "      <th>2</th>\n",
       "      <td>audi</td>\n",
       "      <td>a4</td>\n",
       "      <td>2.0</td>\n",
       "      <td>2008</td>\n",
       "      <td>4</td>\n",
       "      <td>manual(m6)</td>\n",
       "      <td>f</td>\n",
       "      <td>20</td>\n",
       "      <td>31</td>\n",
       "      <td>p</td>\n",
       "      <td>compact</td>\n",
       "    </tr>\n",
       "    <tr>\n",
       "      <th>3</th>\n",
       "      <td>audi</td>\n",
       "      <td>a4</td>\n",
       "      <td>2.0</td>\n",
       "      <td>2008</td>\n",
       "      <td>4</td>\n",
       "      <td>auto(av)</td>\n",
       "      <td>f</td>\n",
       "      <td>21</td>\n",
       "      <td>30</td>\n",
       "      <td>p</td>\n",
       "      <td>compact</td>\n",
       "    </tr>\n",
       "    <tr>\n",
       "      <th>4</th>\n",
       "      <td>audi</td>\n",
       "      <td>a4</td>\n",
       "      <td>2.8</td>\n",
       "      <td>1999</td>\n",
       "      <td>6</td>\n",
       "      <td>auto(l5)</td>\n",
       "      <td>f</td>\n",
       "      <td>16</td>\n",
       "      <td>26</td>\n",
       "      <td>p</td>\n",
       "      <td>compact</td>\n",
       "    </tr>\n",
       "    <tr>\n",
       "      <th>...</th>\n",
       "      <td>...</td>\n",
       "      <td>...</td>\n",
       "      <td>...</td>\n",
       "      <td>...</td>\n",
       "      <td>...</td>\n",
       "      <td>...</td>\n",
       "      <td>...</td>\n",
       "      <td>...</td>\n",
       "      <td>...</td>\n",
       "      <td>...</td>\n",
       "      <td>...</td>\n",
       "    </tr>\n",
       "    <tr>\n",
       "      <th>229</th>\n",
       "      <td>volkswagen</td>\n",
       "      <td>passat</td>\n",
       "      <td>2.0</td>\n",
       "      <td>2008</td>\n",
       "      <td>4</td>\n",
       "      <td>auto(s6)</td>\n",
       "      <td>f</td>\n",
       "      <td>19</td>\n",
       "      <td>28</td>\n",
       "      <td>p</td>\n",
       "      <td>midsize</td>\n",
       "    </tr>\n",
       "    <tr>\n",
       "      <th>230</th>\n",
       "      <td>volkswagen</td>\n",
       "      <td>passat</td>\n",
       "      <td>2.0</td>\n",
       "      <td>2008</td>\n",
       "      <td>4</td>\n",
       "      <td>manual(m6)</td>\n",
       "      <td>f</td>\n",
       "      <td>21</td>\n",
       "      <td>29</td>\n",
       "      <td>p</td>\n",
       "      <td>midsize</td>\n",
       "    </tr>\n",
       "    <tr>\n",
       "      <th>231</th>\n",
       "      <td>volkswagen</td>\n",
       "      <td>passat</td>\n",
       "      <td>2.8</td>\n",
       "      <td>1999</td>\n",
       "      <td>6</td>\n",
       "      <td>auto(l5)</td>\n",
       "      <td>f</td>\n",
       "      <td>16</td>\n",
       "      <td>26</td>\n",
       "      <td>p</td>\n",
       "      <td>midsize</td>\n",
       "    </tr>\n",
       "    <tr>\n",
       "      <th>232</th>\n",
       "      <td>volkswagen</td>\n",
       "      <td>passat</td>\n",
       "      <td>2.8</td>\n",
       "      <td>1999</td>\n",
       "      <td>6</td>\n",
       "      <td>manual(m5)</td>\n",
       "      <td>f</td>\n",
       "      <td>18</td>\n",
       "      <td>26</td>\n",
       "      <td>p</td>\n",
       "      <td>midsize</td>\n",
       "    </tr>\n",
       "    <tr>\n",
       "      <th>233</th>\n",
       "      <td>volkswagen</td>\n",
       "      <td>passat</td>\n",
       "      <td>3.6</td>\n",
       "      <td>2008</td>\n",
       "      <td>6</td>\n",
       "      <td>auto(s6)</td>\n",
       "      <td>f</td>\n",
       "      <td>17</td>\n",
       "      <td>26</td>\n",
       "      <td>p</td>\n",
       "      <td>midsize</td>\n",
       "    </tr>\n",
       "  </tbody>\n",
       "</table>\n",
       "<p>234 rows × 11 columns</p>\n",
       "</div>"
      ],
      "text/plain": [
       "    manufacturer   model  displ  year  cyl       trans drv  cty  hwy fl  \\\n",
       "0           audi      a4    1.8  1999    4    auto(l5)   f   18   29  p   \n",
       "1           audi      a4    1.8  1999    4  manual(m5)   f   21   29  p   \n",
       "2           audi      a4    2.0  2008    4  manual(m6)   f   20   31  p   \n",
       "3           audi      a4    2.0  2008    4    auto(av)   f   21   30  p   \n",
       "4           audi      a4    2.8  1999    6    auto(l5)   f   16   26  p   \n",
       "..           ...     ...    ...   ...  ...         ...  ..  ...  ... ..   \n",
       "229   volkswagen  passat    2.0  2008    4    auto(s6)   f   19   28  p   \n",
       "230   volkswagen  passat    2.0  2008    4  manual(m6)   f   21   29  p   \n",
       "231   volkswagen  passat    2.8  1999    6    auto(l5)   f   16   26  p   \n",
       "232   volkswagen  passat    2.8  1999    6  manual(m5)   f   18   26  p   \n",
       "233   volkswagen  passat    3.6  2008    6    auto(s6)   f   17   26  p   \n",
       "\n",
       "       class  \n",
       "0    compact  \n",
       "1    compact  \n",
       "2    compact  \n",
       "3    compact  \n",
       "4    compact  \n",
       "..       ...  \n",
       "229  midsize  \n",
       "230  midsize  \n",
       "231  midsize  \n",
       "232  midsize  \n",
       "233  midsize  \n",
       "\n",
       "[234 rows x 11 columns]"
      ]
     },
     "execution_count": 2,
     "metadata": {},
     "output_type": "execute_result"
    }
   ],
   "source": [
    "cars"
   ]
  },
  {
   "cell_type": "markdown",
   "metadata": {},
   "source": [
    "Mostrar una Curva de densidad con\n",
    "histograma, que relacione el kilometraje en ciudad (`cty`) con la clase de vehículo (`class`) en\n",
    "particular los tipos compacto, SUV y minivan. Para ello, considere lo siguiente:"
   ]
  },
  {
   "cell_type": "code",
   "execution_count": 5,
   "metadata": {},
   "outputs": [
    {
     "data": {
      "text/plain": [
       "array(['compact', 'midsize', 'suv', '2seater', 'minivan', 'pickup',\n",
       "       'subcompact'], dtype=object)"
      ]
     },
     "execution_count": 5,
     "metadata": {},
     "output_type": "execute_result"
    }
   ],
   "source": [
    "cars['class'].unique()"
   ]
  },
  {
   "cell_type": "code",
   "execution_count": 69,
   "metadata": {},
   "outputs": [],
   "source": [
    "cars2 = cars[(cars['class'] == 'suv') | (cars['class'] == 'minivan') | (cars['class'] == 'compact')]"
   ]
  },
  {
   "cell_type": "code",
   "execution_count": 86,
   "metadata": {},
   "outputs": [
    {
     "data": {
      "text/plain": [
       "<matplotlib.legend.Legend at 0x149fc2dc0>"
      ]
     },
     "execution_count": 86,
     "metadata": {},
     "output_type": "execute_result"
    },
    {
     "data": {
      "image/png": "[encoded data removed]",
      "text/plain": [
       "<Figure size 1040x800 with 1 Axes>"
      ]
     },
     "metadata": {},
     "output_type": "display_data"
    }
   ],
   "source": [
    "import matplotlib.pyplot as plt\n",
    "import seaborn as sns\n",
    "\n",
    "plt.rcParams[\"figure.figsize\"]=13, 10\n",
    "plt.rcParams[\"figure.dpi\"] = 80\n",
    "\n",
    "sns.set(style=\"whitegrid\")\n",
    "\n",
    "color = ['#F61068', '#3353FA', '#FF940D']\n",
    "\n",
    "sns.kdeplot(data=cars2, x=\"cty\", hue=\"class\", fill=False, common_norm=False, alpha=1, cut=4, linewidth = 3, palette=color,  hue_order=['minivan', 'suv', 'compact'])\n",
    "sns.histplot(data=cars2, x=\"cty\", hue=\"class\", stat=\"density\", alpha = 0.7, bins=15, color = color, palette=color, hue_order=['minivan', 'suv', 'compact'])\n",
    "\n",
    "#sns.boxplot('Day', 'Count', data=gg).set(title='lalala')\n",
    "\n",
    "plt.title('Kilometraje en ciudad según la clase del auto.', fontsize=23)\n",
    "\n",
    "plt.xlabel('Kilometraje', fontsize=18)\n",
    "plt.ylabel('Densidad', fontsize=16)\n",
    "plt.legend(title='Tipo de Auto.', title_fontsize=15, labels=['Compacto', 'S.U.V.', 'Mini-Van'],  fontsize=12)\n",
    "\n"
   ]
  },
  {
   "cell_type": "markdown",
   "metadata": {},
   "source": [
    "Lo más obvio, es que en efecto existen rangos comúnes sobre los que se establce el kilometraje para cada tipo de vehículo. Primero podemos ver que los carros compactos registran más kilometros en la ciudad, esto era de esperarse debido a que los carros compactos, son más baratos, pero tambien estan diseñados para ambientes bien pavimentados, y estables, como lo son los caminos urbanos, requieren menos mantenimiento y espacio, lo cual es ideal para zonas altamente densificadas como las ciudades.\n",
    "\n",
    "Los vehiculos que registran  menos kilometros en la ciudad son las SUV, que son camionetas diseñadas para la conducción todo terreno. En una ciudad estas no sacarían todo su potencial, además de ser más caras, y requerir mayor mantenimiento; por lo que era de esperarse que en la ciudad no registren suficiente kilometros.\n",
    "\n",
    "Las minivan estan en un punto intermedio, de entrada no hay suficientes registros de estas, esto se deberá a que en general no hay tantas como el resto de autos; sin embargo, son autos diseñados para ser espaciosos, pero con una carrosería secilla, ideal para familias grandes, en una ciudad. Y además sería razonable pensar que se usan en contextos de translado de no demasiada distancia, por lo que registran menor kilometraje. "
   ]
  },
  {
   "cell_type": "markdown",
   "metadata": {},
   "source": []
  }
 ],
 "metadata": {
  "interpreter": {
   "hash": "dace54320b3e5d10a320680296c22e4020a583bcc2297e7e554010d74f6aaf0c"
  },
  "kernelspec": {
   "display_name": "Python 3.9.2 64-bit ('3.9.2')",
   "language": "python",
   "name": "python3"
  },
  "language_info": {
   "codemirror_mode": {
    "name": "ipython",
    "version": 3
   },
   "file_extension": ".py",
   "mimetype": "text/x-python",
   "name": "python",
   "nbconvert_exporter": "python",
   "pygments_lexer": "ipython3",
   "version": "3.9.10"
  },
  "orig_nbformat": 4
 },
 "nbformat": 4,
 "nbformat_minor": 2
}
