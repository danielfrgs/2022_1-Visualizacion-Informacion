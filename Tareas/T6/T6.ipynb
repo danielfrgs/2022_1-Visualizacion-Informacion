{
 "cells": [
  {
   "cell_type": "markdown",
   "metadata": {},
   "source": [
    "# Tarea 6: Paletas de Colores\n",
    "\n",
    "Fragoso Alvarado Daniel | 316049054\n",
    "\n",
    "---\n",
    "\n",
    "Viz Palette es una herramienta para ayudar a los diseñadores de visualización de datos a evaluar y\n",
    "mejorar sus paletas. Muestra la paleta en uso en una variedad de tipos de visualización de datos, pero\n",
    "también mide los colores individuales mediante técnicas que intentan identificar cuándo los colores\n",
    "son demasiado similares entre sí visualmente, pero también cuándo los nombres de los colores son\n",
    "demasiado parecidos. Ampliando este enfoque, Viz Palette no solo muestra líneas y áreas, muestra\n",
    "diferentes variaciones de estas primitivas gráficas que aparecen en gráficos comunes. Toda la\n",
    "visualización de datos se realiza con líneas y áreas rellenas, pero en la práctica las formas creadas se\n",
    "ven afectadas por la posición, los bordes compartidos y otros atributos."
   ]
  },
  {
   "cell_type": "markdown",
   "metadata": {},
   "source": [
    "### ACTIVIDAD 1:\n",
    "\n",
    "Generar dos paletas de color que resalten mejor los datos.\n",
    "\n",
    "Vamos a considerar que vamos a generar gráficas sobre un tema blanco. Es decir que los colores elegido deben de lograr ser bien diferenciables sobre blanco. Ademas, vamos a considerar que los colores obscuros resaltan más, y deben de ser suficientemente separados para que puedan ser diferenciables a simple vista, pero no los uficiente para sesgar la interpretación. Así que vamos a usar **ADOBE COLOR** para generar un conjunto de colores análogos, es deciir que todos tegan la misma saturación, y luminocidad, y ademas las distancias entre ellos no seas radicalmente opuestas, lo que le va a dar armonia a las diferentes paletas.\n",
    "\n",
    "\n",
    "Vamos a elegir aleatoriamnete los colores inciales, con base en azul por ser mi color favorito, e iremos modificando sobre estos:"
   ]
  },
  {
   "cell_type": "markdown",
   "metadata": {},
   "source": [
    "![SNOWFALL](images/C_0.png)"
   ]
  },
  {
   "cell_type": "markdown",
   "metadata": {},
   "source": [
    "![SNOWFALL](images/P_0.png)"
   ]
  },
  {
   "cell_type": "markdown",
   "metadata": {},
   "source": [
    "Para ver que tanta nterferecia presentaría alguien con daltonismo vamos a usar la herramienta **Color Blindness Simulador**, que permite simular como ve alguien con este padecimiento.\n",
    "\n",
    "Debido a afeccionese color como el Daltonismo, los colores B, C, y D pueden tener interferencias"
   ]
  },
  {
   "cell_type": "markdown",
   "metadata": {},
   "source": [
    "![SNOWFALL](images/pilestone.jpg)\n",
    "\n",
    "![SNOWFALL](images/pilestone-2.jpg)\n",
    "\n",
    "![SNOWFALL](images/pilestone-3.jpg)"
   ]
  },
  {
   "cell_type": "markdown",
   "metadata": {},
   "source": [
    "**Adobe Color** presenta una herramienta que puede visualizar las diferentes interferencias con el daltonismo así que la suaremos en principio para generar las modificaciones pertinenetes."
   ]
  },
  {
   "cell_type": "markdown",
   "metadata": {},
   "source": [
    "![SNOWFALL](images/C_1.png)\n",
    "\n",
    "![SNOWFALL](images/P_1.png)\n"
   ]
  },
  {
   "cell_type": "markdown",
   "metadata": {},
   "source": []
  }
 ],
 "metadata": {
  "language_info": {
   "name": "python"
  },
  "orig_nbformat": 4
 },
 "nbformat": 4,
 "nbformat_minor": 2
}
